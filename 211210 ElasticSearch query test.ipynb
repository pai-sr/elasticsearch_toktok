{
 "cells": [
  {
   "cell_type": "code",
   "execution_count": 408,
   "id": "ff5056d5",
   "metadata": {},
   "outputs": [],
   "source": [
    "from elasticsearch import Elasticsearch\n",
    "from elasticsearch_dsl import Search\n",
    "from elasticsearch_dsl import A, Q\n",
    "\n",
    "import pandas as pd\n",
    "from datetime import datetime\n",
    "import matplotlib.pyplot as plt\n",
    "plt.rc('font', family='AppleGothic') \n",
    "plt.rcParams['axes.unicode_minus'] = False  "
   ]
  },
  {
   "cell_type": "code",
   "execution_count": 710,
   "id": "a9e757ce",
   "metadata": {},
   "outputs": [],
   "source": [
    "es = Elasticsearch([{'host':'datamgt9200.itt.link','port':80}], http_auth = ('publicai','publicai@@!!'), timeout=30)"
   ]
  },
  {
   "cell_type": "markdown",
   "id": "f8631896",
   "metadata": {},
   "source": [
    "# 호출시간 정리\n",
    "\n",
    "|인덱스|지표|지표상세|관련조건|걸린시간(ms)|지표구현시 고려해야 하는 점|\n",
    "|----|---|-----|------|---|-----------------------|\n",
    "|이야기방|상호작용(커뮤니티)지수|특정 기간 내 클래스별, 기간별 확인|특정기간필터링(11.01~12.01, 30일), 기간별(1주일별) |42|특정기간 필터링 컬럼, 기간별 기준 컬럼 점검 필요|\n",
    "|이야기방|상호작용(커뮤니티)지수|특정 기간 내 특정 클래스의 학생별, 기간별 확인|특정기간필터링(11.15~12.01, 15일), 기간별(1주일별) |40|특정기간 필터링 컬럼, 기간별 기준 컬럼, 학생별 기준 컬럼 점검 필요, 내 게시물에 내가 좋아요한 건수 필터링 불가(*다른 인덱스 내에 있는 각각의 컬럼을 비교하기 어려움)|\n",
    "|과제방|과제제출율|특정 기간내 특정 학생이 제출한 과제 수 / 특정 기간 내 특정 학생이 소속된 클래스에서 마감되는 과제 수|특정기간필터링(11.15~12.01, 15일), 특정 클래스(1학급), 특정 학생(1명)|8(4+4)|특정 기간 필터링 컬럼 비교 검토 필요, 과제 기한 없는 게시물 처리 관련 검토 필요, 제출목록과 출제목록 간의 연동 필요(cmmnty_id로 같이 계산불가)|\n",
    "|과제방|출제과제리스트|특정 기간내 특정 학생의 클래스에 출제된 과제 리스트|특정기간필터링(11.15~12.01, 15일), 특정 클래스(1학급)|4|특정 기간 필터링 컬럼 검토 필요, 과제 기한 없는 게시물 처리 관련 검토 필요|"
   ]
  },
  {
   "cell_type": "markdown",
   "id": "7e151a4f",
   "metadata": {},
   "source": [
    "# 사용된 인덱스와 컬럼 정리\n",
    "\n",
    "|지표상세|지표|인덱스|사용된 컬럼|비고|\n",
    "|-----|---|----|---------|---|\n",
    "|특정 기간 내 클래스별, 기간별|상호작용(커뮤니티)지수|toktok_op_talk*|특정기간 필터링 컬럼(post_frst_register_pnttm), 클래스별 기준 컬럼(cmmnty_id.keyword), 기간별 기준 컬럼(post_frst_register_pnttm)|특정기간 필터링 컬럼, 기간별 기준 컬럼 점검 필요|\n",
    "|특정 기간 내 특정 클래스의 학생별, 기간별|상호작용(커뮤니티)지수|toktok_op_talk*|특정기간 필터링 컬럼(post_frst_register_pnttm), 학생별 기준 컬럼(post_frst_register_id.keyword), 기간별 기준 컬럼(post_frst_register_pnttm)|특정기간 필터링 컬럼, 기간별 기준 컬럼, 학생별 기준 컬럼 점검 필요, 내 게시물에 내가 좋아요한 건수 필터링 불가(*다른 인덱스 내에 있는 각각의 컬럼을 비교하기 어려움)|\n",
    "|특정 기간내 특정 학생이 제출한 과제 수 / 특정 기간 내 특정 학생이 소속된 클래스에서 마감되는 과제 수|과제제출율|toktok_op_assignable_submit, regist|특정기간 필터링 컬럼(last_updusr_pnttm, assignable_end_date), 특정 학생 필터링 컬럼(last_updusr_id.keyword), 학생이 소속된 클래스 필터링 컬럼(cmmnty_id.keyword), 과제 게시물 카운트 기준 컬럼(ntt_no)|특정 기간 필터링 컬럼 비교 검토 필요, 과제 기한 없는 게시물 처리 관련 검토 필요|\n",
    "|특정 기간내 특정 학생의 클래스에 출제된 과제 리스트|출제과제리스트|toktok_op_assignable_submit|특정기간 필터링 컬럼(assignable_end_date), 특정 학생의 클래스 필터링 컬럼(cmmnty_id.keyword), 리스트 컬럼(assignable_start/end_date, ntt_no ..)|특정 기간 필터링 컬럼 검토 필요, 과제 기한 없는 게시물 처리 관련 검토 필요|"
   ]
  },
  {
   "cell_type": "markdown",
   "id": "22320c3f",
   "metadata": {},
   "source": [
    "# DSL API 사용"
   ]
  },
  {
   "cell_type": "markdown",
   "id": "39a66060",
   "metadata": {},
   "source": [
    "## 이야기방 관련 지표"
   ]
  },
  {
   "cell_type": "markdown",
   "id": "a4b94f49",
   "metadata": {},
   "source": [
    "#### 학생별"
   ]
  },
  {
   "cell_type": "code",
   "execution_count": 711,
   "id": "dbebbf1a",
   "metadata": {},
   "outputs": [],
   "source": [
    "_cmmnty_id = 'CMMNTY_0000000005402'\n",
    "_start_date = \"2021-11-15\" \n",
    "_end_date = \"2021-12-01\""
   ]
  },
  {
   "cell_type": "code",
   "execution_count": 712,
   "id": "9d11cca5",
   "metadata": {},
   "outputs": [],
   "source": [
    "s = Search(using=es, index='toktok_op_talk*')\n",
    "s = s.query(\"bool\", filter=[Q('term', cmmnty_id={'value':_cmmnty_id}),\n",
    "                Q('range', post_frst_register_pnttm= \\\n",
    "                {'gte' : f\"{_start_date}T00:00:00.000Z\", 'lt' : f\"{_end_date}T00:00:00.000Z\"})])"
   ]
  },
  {
   "cell_type": "code",
   "execution_count": 713,
   "id": "4bbb67a3",
   "metadata": {},
   "outputs": [
    {
     "data": {
      "text/plain": [
       "Terms(aggs={'comment': ValueCount(field='comment_frst_register_pnttm'), 'minmax_comment': Normalize(buckets_path='comment', format='00.00%', method='rescale_0_1'), 'reply': ValueCount(field='reply_frst_register_pnttm'), 'minmax_reply': Normalize(buckets_path='reply', format='00.00%', method='rescale_0_1'), 'good': ValueCount(field='good_frst_register_pnttm'), 'minmax_good': Normalize(buckets_path='good', format='00.00%', method='rescale_0_1'), 'comm_index': BucketScript(buckets_path={'comment': 'minmax_comment', 'reply': 'minmax_reply', 'good': 'minmax_good'}, script={'source': 'params.comment + params.reply + params.good'})}, field='post_frst_register_id.keyword')"
      ]
     },
     "execution_count": 713,
     "metadata": {},
     "output_type": "execute_result"
    }
   ],
   "source": [
    "s.aggs.bucket('comm_over_date', 'date_histogram', \n",
    "                   field='post_frst_register_pnttm', interval='week')\\\n",
    "    .bucket('comm_per_student', 'terms', field='post_frst_register_id.keyword') \\\n",
    "    .metric('comment', 'value_count', field='comment_frst_register_pnttm')\\\n",
    "    .pipeline('minmax_comment', 'normalize', buckets_path='comment', method='rescale_0_1', format='00.00%')\\\n",
    "    .metric('reply', 'value_count', field='reply_frst_register_pnttm')\\\n",
    "    .pipeline('minmax_reply', 'normalize', buckets_path='reply', method='rescale_0_1', format='00.00%')\\\n",
    "    .metric('good', 'value_count', field='good_frst_register_pnttm')\\\n",
    "    .pipeline('minmax_good', 'normalize', buckets_path='good', method='rescale_0_1', format='00.00%')\\\n",
    "    .pipeline('comm_index', 'bucket_script', buckets_path={'comment' : 'minmax_comment',\n",
    "                                                           'reply' : 'minmax_reply',\n",
    "                                                           'good' : 'minmax_good'}, \n",
    "              script={'source' : 'params.comment + params.reply + params.good' })"
   ]
  },
  {
   "cell_type": "code",
   "execution_count": 714,
   "id": "7631235d",
   "metadata": {
    "scrolled": true
   },
   "outputs": [
    {
     "name": "stdout",
     "output_type": "stream",
     "text": [
      "{'query': {'bool': {'filter': [{'term': {'cmmnty_id': {'value': 'CMMNTY_0000000005402'}}}, {'range': {'post_frst_register_pnttm': {'gte': '2021-11-15T00:00:00.000Z', 'lt': '2021-12-01T00:00:00.000Z'}}}]}}, 'aggs': {'comm_over_date': {'date_histogram': {'field': 'post_frst_register_pnttm', 'interval': 'week'}, 'aggs': {'comm_per_student': {'terms': {'field': 'post_frst_register_id.keyword'}, 'aggs': {'comment': {'value_count': {'field': 'comment_frst_register_pnttm'}}, 'minmax_comment': {'normalize': {'buckets_path': 'comment', 'method': 'rescale_0_1', 'format': '00.00%'}}, 'reply': {'value_count': {'field': 'reply_frst_register_pnttm'}}, 'minmax_reply': {'normalize': {'buckets_path': 'reply', 'method': 'rescale_0_1', 'format': '00.00%'}}, 'good': {'value_count': {'field': 'good_frst_register_pnttm'}}, 'minmax_good': {'normalize': {'buckets_path': 'good', 'method': 'rescale_0_1', 'format': '00.00%'}}, 'comm_index': {'bucket_script': {'buckets_path': {'comment': 'minmax_comment', 'reply': 'minmax_reply', 'good': 'minmax_good'}, 'script': {'source': 'params.comment + params.reply + params.good'}}}}}}}}}\n"
     ]
    }
   ],
   "source": [
    "print(s.to_dict())"
   ]
  },
  {
   "cell_type": "code",
   "execution_count": 715,
   "id": "7a8ae2dc",
   "metadata": {},
   "outputs": [
    {
     "name": "stderr",
     "output_type": "stream",
     "text": [
      "/Users/sr-pai/opt/anaconda3/envs/python3_tf2/lib/python3.7/site-packages/elasticsearch/connection/base.py:200: ElasticsearchWarning: [interval] on [date_histogram] is deprecated, use [fixed_interval] or [calendar_interval] in the future.\n",
      "  warnings.warn(message, category=ElasticsearchWarning)\n"
     ]
    }
   ],
   "source": [
    "response = s.execute()"
   ]
  },
  {
   "cell_type": "code",
   "execution_count": 716,
   "id": "a47dc465",
   "metadata": {},
   "outputs": [
    {
     "name": "stdout",
     "output_type": "stream",
     "text": [
      "49\n"
     ]
    }
   ],
   "source": [
    "print(response.took)"
   ]
  },
  {
   "cell_type": "code",
   "execution_count": 553,
   "id": "9593d4f8",
   "metadata": {
    "scrolled": false
   },
   "outputs": [
    {
     "data": {
      "text/plain": [
       "{'key': 'aju3423@gne.go.kr',\n",
       " 'doc_count': 43,\n",
       " 'comment': {'value': 19},\n",
       " 'reply': {'value': 2},\n",
       " 'good': {'value': 22},\n",
       " 'minmax_comment': {'value': 1.0, 'value_as_string': '100.00%'},\n",
       " 'minmax_reply': {'value': 0.14285714285714285, 'value_as_string': '14.29%'},\n",
       " 'minmax_good': {'value': 1.0, 'value_as_string': '100.00%'},\n",
       " 'comm_index': {'value': 2.142857142857143}}"
      ]
     },
     "execution_count": 553,
     "metadata": {},
     "output_type": "execute_result"
    }
   ],
   "source": [
    "response.aggregations.comm_over_date.buckets[0].comm_per_student.buckets[0].to_dict()"
   ]
  },
  {
   "cell_type": "code",
   "execution_count": 554,
   "id": "0a92dabe",
   "metadata": {},
   "outputs": [],
   "source": [
    "result_list = []\n",
    "for bucket in response.aggregations.comm_over_date.buckets:\n",
    "    res_df = pd.DataFrame(bucket.comm_per_student.to_dict()['buckets'])\n",
    "    res_df['date'] = pd.to_datetime(bucket.key_as_string)\n",
    "    result_list.append(res_df)\n",
    "result_df = pd.concat(result_list)"
   ]
  },
  {
   "cell_type": "code",
   "execution_count": 555,
   "id": "f9bead9d",
   "metadata": {},
   "outputs": [],
   "source": [
    "dict_cols = ['comment', 'reply', 'good', 'minmax_comment', 'minmax_reply', 'minmax_good', 'comm_index']\n",
    "for col in dict_cols:\n",
    "    result_df[col] = result_df[col].apply(lambda x:x['value'] if type(x) == dict else x)\n",
    "result_df[['minmax_comment', 'minmax_reply', 'minmax_good']] = result_df[['minmax_comment', 'minmax_reply', 'minmax_good']].fillna(0)\n",
    "result_df['comm_index'] = result_df['minmax_comment'] + result_df['minmax_reply'] + result_df['minmax_good']"
   ]
  },
  {
   "cell_type": "code",
   "execution_count": 556,
   "id": "74d41562",
   "metadata": {
    "scrolled": true
   },
   "outputs": [
    {
     "data": {
      "text/html": [
       "<div>\n",
       "<style scoped>\n",
       "    .dataframe tbody tr th:only-of-type {\n",
       "        vertical-align: middle;\n",
       "    }\n",
       "\n",
       "    .dataframe tbody tr th {\n",
       "        vertical-align: top;\n",
       "    }\n",
       "\n",
       "    .dataframe thead th {\n",
       "        text-align: right;\n",
       "    }\n",
       "</style>\n",
       "<table border=\"1\" class=\"dataframe\">\n",
       "  <thead>\n",
       "    <tr style=\"text-align: right;\">\n",
       "      <th></th>\n",
       "      <th>key</th>\n",
       "      <th>doc_count</th>\n",
       "      <th>comment</th>\n",
       "      <th>reply</th>\n",
       "      <th>good</th>\n",
       "      <th>minmax_comment</th>\n",
       "      <th>minmax_reply</th>\n",
       "      <th>minmax_good</th>\n",
       "      <th>comm_index</th>\n",
       "      <th>date</th>\n",
       "    </tr>\n",
       "  </thead>\n",
       "  <tbody>\n",
       "    <tr>\n",
       "      <th>0</th>\n",
       "      <td>aju3423@gne.go.kr</td>\n",
       "      <td>43</td>\n",
       "      <td>19</td>\n",
       "      <td>2</td>\n",
       "      <td>22</td>\n",
       "      <td>1.000000</td>\n",
       "      <td>0.142857</td>\n",
       "      <td>1.000000</td>\n",
       "      <td>2.142857</td>\n",
       "      <td>2021-11-15 00:00:00+00:00</td>\n",
       "    </tr>\n",
       "    <tr>\n",
       "      <th>1</th>\n",
       "      <td>aju3406@gne.go.kr</td>\n",
       "      <td>35</td>\n",
       "      <td>12</td>\n",
       "      <td>14</td>\n",
       "      <td>9</td>\n",
       "      <td>0.611111</td>\n",
       "      <td>1.000000</td>\n",
       "      <td>0.409091</td>\n",
       "      <td>2.020202</td>\n",
       "      <td>2021-11-15 00:00:00+00:00</td>\n",
       "    </tr>\n",
       "    <tr>\n",
       "      <th>2</th>\n",
       "      <td>aju3405@gne.go.kr</td>\n",
       "      <td>16</td>\n",
       "      <td>2</td>\n",
       "      <td>7</td>\n",
       "      <td>7</td>\n",
       "      <td>0.055556</td>\n",
       "      <td>0.500000</td>\n",
       "      <td>0.318182</td>\n",
       "      <td>0.873737</td>\n",
       "      <td>2021-11-15 00:00:00+00:00</td>\n",
       "    </tr>\n",
       "    <tr>\n",
       "      <th>3</th>\n",
       "      <td>aju3411@gne.go.kr</td>\n",
       "      <td>10</td>\n",
       "      <td>8</td>\n",
       "      <td>0</td>\n",
       "      <td>2</td>\n",
       "      <td>0.388889</td>\n",
       "      <td>0.000000</td>\n",
       "      <td>0.090909</td>\n",
       "      <td>0.479798</td>\n",
       "      <td>2021-11-15 00:00:00+00:00</td>\n",
       "    </tr>\n",
       "    <tr>\n",
       "      <th>4</th>\n",
       "      <td>aju3412@gne.go.kr</td>\n",
       "      <td>5</td>\n",
       "      <td>1</td>\n",
       "      <td>0</td>\n",
       "      <td>4</td>\n",
       "      <td>0.000000</td>\n",
       "      <td>0.000000</td>\n",
       "      <td>0.181818</td>\n",
       "      <td>0.181818</td>\n",
       "      <td>2021-11-15 00:00:00+00:00</td>\n",
       "    </tr>\n",
       "    <tr>\n",
       "      <th>5</th>\n",
       "      <td>aju3417@gne.go.kr</td>\n",
       "      <td>4</td>\n",
       "      <td>2</td>\n",
       "      <td>2</td>\n",
       "      <td>0</td>\n",
       "      <td>0.055556</td>\n",
       "      <td>0.142857</td>\n",
       "      <td>0.000000</td>\n",
       "      <td>0.198413</td>\n",
       "      <td>2021-11-15 00:00:00+00:00</td>\n",
       "    </tr>\n",
       "    <tr>\n",
       "      <th>6</th>\n",
       "      <td>aju3401@gne.go.kr</td>\n",
       "      <td>2</td>\n",
       "      <td>2</td>\n",
       "      <td>0</td>\n",
       "      <td>0</td>\n",
       "      <td>0.055556</td>\n",
       "      <td>0.000000</td>\n",
       "      <td>0.000000</td>\n",
       "      <td>0.055556</td>\n",
       "      <td>2021-11-15 00:00:00+00:00</td>\n",
       "    </tr>\n",
       "    <tr>\n",
       "      <th>0</th>\n",
       "      <td>aju3423@gne.go.kr</td>\n",
       "      <td>43</td>\n",
       "      <td>23</td>\n",
       "      <td>5</td>\n",
       "      <td>15</td>\n",
       "      <td>1.000000</td>\n",
       "      <td>1.000000</td>\n",
       "      <td>1.000000</td>\n",
       "      <td>3.000000</td>\n",
       "      <td>2021-11-22 00:00:00+00:00</td>\n",
       "    </tr>\n",
       "    <tr>\n",
       "      <th>1</th>\n",
       "      <td>aju3406@gne.go.kr</td>\n",
       "      <td>9</td>\n",
       "      <td>5</td>\n",
       "      <td>2</td>\n",
       "      <td>2</td>\n",
       "      <td>0.142857</td>\n",
       "      <td>0.400000</td>\n",
       "      <td>0.000000</td>\n",
       "      <td>0.542857</td>\n",
       "      <td>2021-11-22 00:00:00+00:00</td>\n",
       "    </tr>\n",
       "    <tr>\n",
       "      <th>2</th>\n",
       "      <td>aju3412@gne.go.kr</td>\n",
       "      <td>8</td>\n",
       "      <td>5</td>\n",
       "      <td>0</td>\n",
       "      <td>3</td>\n",
       "      <td>0.142857</td>\n",
       "      <td>0.000000</td>\n",
       "      <td>0.076923</td>\n",
       "      <td>0.219780</td>\n",
       "      <td>2021-11-22 00:00:00+00:00</td>\n",
       "    </tr>\n",
       "    <tr>\n",
       "      <th>3</th>\n",
       "      <td>aju3405@gne.go.kr</td>\n",
       "      <td>4</td>\n",
       "      <td>2</td>\n",
       "      <td>0</td>\n",
       "      <td>2</td>\n",
       "      <td>0.000000</td>\n",
       "      <td>0.000000</td>\n",
       "      <td>0.000000</td>\n",
       "      <td>0.000000</td>\n",
       "      <td>2021-11-22 00:00:00+00:00</td>\n",
       "    </tr>\n",
       "    <tr>\n",
       "      <th>0</th>\n",
       "      <td>aju3423@gne.go.kr</td>\n",
       "      <td>9</td>\n",
       "      <td>3</td>\n",
       "      <td>3</td>\n",
       "      <td>3</td>\n",
       "      <td>0.000000</td>\n",
       "      <td>0.000000</td>\n",
       "      <td>0.000000</td>\n",
       "      <td>0.000000</td>\n",
       "      <td>2021-11-29 00:00:00+00:00</td>\n",
       "    </tr>\n",
       "  </tbody>\n",
       "</table>\n",
       "</div>"
      ],
      "text/plain": [
       "                 key  doc_count  comment  reply  good  minmax_comment  \\\n",
       "0  aju3423@gne.go.kr         43       19      2    22        1.000000   \n",
       "1  aju3406@gne.go.kr         35       12     14     9        0.611111   \n",
       "2  aju3405@gne.go.kr         16        2      7     7        0.055556   \n",
       "3  aju3411@gne.go.kr         10        8      0     2        0.388889   \n",
       "4  aju3412@gne.go.kr          5        1      0     4        0.000000   \n",
       "5  aju3417@gne.go.kr          4        2      2     0        0.055556   \n",
       "6  aju3401@gne.go.kr          2        2      0     0        0.055556   \n",
       "0  aju3423@gne.go.kr         43       23      5    15        1.000000   \n",
       "1  aju3406@gne.go.kr          9        5      2     2        0.142857   \n",
       "2  aju3412@gne.go.kr          8        5      0     3        0.142857   \n",
       "3  aju3405@gne.go.kr          4        2      0     2        0.000000   \n",
       "0  aju3423@gne.go.kr          9        3      3     3        0.000000   \n",
       "\n",
       "   minmax_reply  minmax_good  comm_index                      date  \n",
       "0      0.142857     1.000000    2.142857 2021-11-15 00:00:00+00:00  \n",
       "1      1.000000     0.409091    2.020202 2021-11-15 00:00:00+00:00  \n",
       "2      0.500000     0.318182    0.873737 2021-11-15 00:00:00+00:00  \n",
       "3      0.000000     0.090909    0.479798 2021-11-15 00:00:00+00:00  \n",
       "4      0.000000     0.181818    0.181818 2021-11-15 00:00:00+00:00  \n",
       "5      0.142857     0.000000    0.198413 2021-11-15 00:00:00+00:00  \n",
       "6      0.000000     0.000000    0.055556 2021-11-15 00:00:00+00:00  \n",
       "0      1.000000     1.000000    3.000000 2021-11-22 00:00:00+00:00  \n",
       "1      0.400000     0.000000    0.542857 2021-11-22 00:00:00+00:00  \n",
       "2      0.000000     0.076923    0.219780 2021-11-22 00:00:00+00:00  \n",
       "3      0.000000     0.000000    0.000000 2021-11-22 00:00:00+00:00  \n",
       "0      0.000000     0.000000    0.000000 2021-11-29 00:00:00+00:00  "
      ]
     },
     "execution_count": 556,
     "metadata": {},
     "output_type": "execute_result"
    }
   ],
   "source": [
    "result_df"
   ]
  },
  {
   "cell_type": "markdown",
   "id": "01bdb073",
   "metadata": {},
   "source": [
    "#### 클래스별"
   ]
  },
  {
   "cell_type": "code",
   "execution_count": 557,
   "id": "e3552e8a",
   "metadata": {},
   "outputs": [],
   "source": [
    "_start_date = \"2021-11-15\" \n",
    "_end_date = \"2021-12-01\""
   ]
  },
  {
   "cell_type": "code",
   "execution_count": 558,
   "id": "84699507",
   "metadata": {},
   "outputs": [],
   "source": [
    "s = Search(using=es, index='toktok_op_talk*')\n",
    "s = s.query(\"bool\", filter=[Q('range', post_frst_register_pnttm= \\\n",
    "                {'gte' : f\"{_start_date}T00:00:00.000Z\", 'lt' : f\"{_end_date}T00:00:00.000Z\"})])"
   ]
  },
  {
   "cell_type": "code",
   "execution_count": 559,
   "id": "5b412958",
   "metadata": {},
   "outputs": [
    {
     "data": {
      "text/plain": [
       "Terms(aggs={'comment': ValueCount(field='comment_frst_register_pnttm'), 'minmax_comment': Normalize(buckets_path='comment', format='00.00%', method='rescale_0_1'), 'reply': ValueCount(field='reply_frst_register_pnttm'), 'minmax_reply': Normalize(buckets_path='reply', format='00.00%', method='rescale_0_1'), 'good': ValueCount(field='good_frst_register_pnttm'), 'minmax_good': Normalize(buckets_path='good', format='00.00%', method='rescale_0_1'), 'comm_index': BucketScript(buckets_path={'comment': 'minmax_comment', 'reply': 'minmax_reply', 'good': 'minmax_good'}, script={'source': 'params.comment + params.reply + params.good'})}, field='cmmnty_id')"
      ]
     },
     "execution_count": 559,
     "metadata": {},
     "output_type": "execute_result"
    }
   ],
   "source": [
    "s.aggs.bucket('comm_over_date', 'date_histogram', \n",
    "                   field='post_frst_register_pnttm', interval='week')\\\n",
    "    .bucket('comm_per_class', 'terms', field='cmmnty_id') \\\n",
    "    .metric('comment', 'value_count', field='comment_frst_register_pnttm')\\\n",
    "    .pipeline('minmax_comment', 'normalize', buckets_path='comment', method='rescale_0_1', format='00.00%')\\\n",
    "    .metric('reply', 'value_count', field='reply_frst_register_pnttm')\\\n",
    "    .pipeline('minmax_reply', 'normalize', buckets_path='reply', method='rescale_0_1', format='00.00%')\\\n",
    "    .metric('good', 'value_count', field='good_frst_register_pnttm')\\\n",
    "    .pipeline('minmax_good', 'normalize', buckets_path='good', method='rescale_0_1', format='00.00%')\\\n",
    "    .pipeline('comm_index', 'bucket_script', buckets_path={'comment' : 'minmax_comment',\n",
    "                                                           'reply' : 'minmax_reply',\n",
    "                                                           'good' : 'minmax_good'}, \n",
    "              script={'source' : 'params.comment + params.reply + params.good' })"
   ]
  },
  {
   "cell_type": "code",
   "execution_count": 560,
   "id": "8ffd3e51",
   "metadata": {},
   "outputs": [
    {
     "name": "stdout",
     "output_type": "stream",
     "text": [
      "{'query': {'bool': {'filter': [{'range': {'post_frst_register_pnttm': {'gte': '2021-11-15T00:00:00.000Z', 'lt': '2021-12-01T00:00:00.000Z'}}}]}}, 'aggs': {'comm_over_date': {'date_histogram': {'field': 'post_frst_register_pnttm', 'interval': 'week'}, 'aggs': {'comm_per_class': {'terms': {'field': 'cmmnty_id'}, 'aggs': {'comment': {'value_count': {'field': 'comment_frst_register_pnttm'}}, 'minmax_comment': {'normalize': {'buckets_path': 'comment', 'method': 'rescale_0_1', 'format': '00.00%'}}, 'reply': {'value_count': {'field': 'reply_frst_register_pnttm'}}, 'minmax_reply': {'normalize': {'buckets_path': 'reply', 'method': 'rescale_0_1', 'format': '00.00%'}}, 'good': {'value_count': {'field': 'good_frst_register_pnttm'}}, 'minmax_good': {'normalize': {'buckets_path': 'good', 'method': 'rescale_0_1', 'format': '00.00%'}}, 'comm_index': {'bucket_script': {'buckets_path': {'comment': 'minmax_comment', 'reply': 'minmax_reply', 'good': 'minmax_good'}, 'script': {'source': 'params.comment + params.reply + params.good'}}}}}}}}}\n"
     ]
    }
   ],
   "source": [
    "print(s.to_dict())"
   ]
  },
  {
   "cell_type": "code",
   "execution_count": 561,
   "id": "02576cbb",
   "metadata": {},
   "outputs": [
    {
     "name": "stderr",
     "output_type": "stream",
     "text": [
      "/Users/sr-pai/opt/anaconda3/envs/python3_tf2/lib/python3.7/site-packages/elasticsearch/connection/base.py:200: ElasticsearchWarning: [interval] on [date_histogram] is deprecated, use [fixed_interval] or [calendar_interval] in the future.\n",
      "  warnings.warn(message, category=ElasticsearchWarning)\n"
     ]
    }
   ],
   "source": [
    "response = s.execute()"
   ]
  },
  {
   "cell_type": "code",
   "execution_count": 562,
   "id": "3f0b6501",
   "metadata": {
    "scrolled": false
   },
   "outputs": [
    {
     "data": {
      "text/plain": [
       "{'key': 'CMMNTY_0000000005402',\n",
       " 'doc_count': 115,\n",
       " 'comment': {'value': 46},\n",
       " 'reply': {'value': 25},\n",
       " 'good': {'value': 44},\n",
       " 'minmax_comment': {'value': 1.0, 'value_as_string': '100.00%'},\n",
       " 'minmax_reply': {'value': 1.0, 'value_as_string': '100.00%'},\n",
       " 'minmax_good': {'value': 0.8936170212765957, 'value_as_string': '89.36%'},\n",
       " 'comm_index': {'value': 2.8936170212765955}}"
      ]
     },
     "execution_count": 562,
     "metadata": {},
     "output_type": "execute_result"
    }
   ],
   "source": [
    "response.aggregations.comm_over_date.buckets[0].comm_per_class.buckets[0].to_dict()"
   ]
  },
  {
   "cell_type": "code",
   "execution_count": 563,
   "id": "d6f57a12",
   "metadata": {},
   "outputs": [],
   "source": [
    "result_list = []\n",
    "for bucket in response.aggregations.comm_over_date.buckets:\n",
    "    res_df = pd.DataFrame(bucket.comm_per_class.to_dict()['buckets'])\n",
    "    res_df['date'] = pd.to_datetime(bucket.key_as_string)\n",
    "    result_list.append(res_df)\n",
    "result_df = pd.concat(result_list)"
   ]
  },
  {
   "cell_type": "code",
   "execution_count": 564,
   "id": "4ef646c2",
   "metadata": {},
   "outputs": [],
   "source": [
    "dict_cols = ['comment', 'reply', 'good', 'minmax_comment', 'minmax_reply', 'minmax_good', 'comm_index']\n",
    "for col in dict_cols:\n",
    "    result_df[col] = result_df[col].apply(lambda x:x['value'] if type(x) == dict else x)\n",
    "result_df[['minmax_comment', 'minmax_reply', 'minmax_good']] = result_df[['minmax_comment', 'minmax_reply', 'minmax_good']].fillna(0)\n",
    "result_df['comm_index'] = result_df['minmax_comment'] + result_df['minmax_reply'] + result_df['minmax_good']"
   ]
  },
  {
   "cell_type": "code",
   "execution_count": 565,
   "id": "6414803f",
   "metadata": {
    "scrolled": true
   },
   "outputs": [
    {
     "data": {
      "text/html": [
       "<div>\n",
       "<style scoped>\n",
       "    .dataframe tbody tr th:only-of-type {\n",
       "        vertical-align: middle;\n",
       "    }\n",
       "\n",
       "    .dataframe tbody tr th {\n",
       "        vertical-align: top;\n",
       "    }\n",
       "\n",
       "    .dataframe thead th {\n",
       "        text-align: right;\n",
       "    }\n",
       "</style>\n",
       "<table border=\"1\" class=\"dataframe\">\n",
       "  <thead>\n",
       "    <tr style=\"text-align: right;\">\n",
       "      <th></th>\n",
       "      <th>key</th>\n",
       "      <th>doc_count</th>\n",
       "      <th>comment</th>\n",
       "      <th>reply</th>\n",
       "      <th>good</th>\n",
       "      <th>minmax_comment</th>\n",
       "      <th>minmax_reply</th>\n",
       "      <th>minmax_good</th>\n",
       "      <th>comm_index</th>\n",
       "      <th>date</th>\n",
       "    </tr>\n",
       "  </thead>\n",
       "  <tbody>\n",
       "    <tr>\n",
       "      <th>0</th>\n",
       "      <td>CMMNTY_0000000005402</td>\n",
       "      <td>115</td>\n",
       "      <td>46</td>\n",
       "      <td>25</td>\n",
       "      <td>44</td>\n",
       "      <td>1.000000</td>\n",
       "      <td>1.000000</td>\n",
       "      <td>0.893617</td>\n",
       "      <td>2.893617</td>\n",
       "      <td>2021-11-15 00:00:00+00:00</td>\n",
       "    </tr>\n",
       "    <tr>\n",
       "      <th>1</th>\n",
       "      <td>CMMNTY_0000000006040</td>\n",
       "      <td>100</td>\n",
       "      <td>34</td>\n",
       "      <td>17</td>\n",
       "      <td>49</td>\n",
       "      <td>0.739130</td>\n",
       "      <td>0.680000</td>\n",
       "      <td>1.000000</td>\n",
       "      <td>2.419130</td>\n",
       "      <td>2021-11-15 00:00:00+00:00</td>\n",
       "    </tr>\n",
       "    <tr>\n",
       "      <th>2</th>\n",
       "      <td>CMMNTY_0000000005401</td>\n",
       "      <td>34</td>\n",
       "      <td>10</td>\n",
       "      <td>4</td>\n",
       "      <td>20</td>\n",
       "      <td>0.217391</td>\n",
       "      <td>0.160000</td>\n",
       "      <td>0.382979</td>\n",
       "      <td>0.760370</td>\n",
       "      <td>2021-11-15 00:00:00+00:00</td>\n",
       "    </tr>\n",
       "    <tr>\n",
       "      <th>3</th>\n",
       "      <td>CMMNTY_0000000006669</td>\n",
       "      <td>32</td>\n",
       "      <td>23</td>\n",
       "      <td>1</td>\n",
       "      <td>8</td>\n",
       "      <td>0.500000</td>\n",
       "      <td>0.040000</td>\n",
       "      <td>0.127660</td>\n",
       "      <td>0.667660</td>\n",
       "      <td>2021-11-15 00:00:00+00:00</td>\n",
       "    </tr>\n",
       "    <tr>\n",
       "      <th>4</th>\n",
       "      <td>CMMNTY_0000000004943</td>\n",
       "      <td>19</td>\n",
       "      <td>6</td>\n",
       "      <td>5</td>\n",
       "      <td>8</td>\n",
       "      <td>0.130435</td>\n",
       "      <td>0.200000</td>\n",
       "      <td>0.127660</td>\n",
       "      <td>0.458094</td>\n",
       "      <td>2021-11-15 00:00:00+00:00</td>\n",
       "    </tr>\n",
       "    <tr>\n",
       "      <th>5</th>\n",
       "      <td>CMMNTY_0000000004498</td>\n",
       "      <td>18</td>\n",
       "      <td>5</td>\n",
       "      <td>5</td>\n",
       "      <td>8</td>\n",
       "      <td>0.108696</td>\n",
       "      <td>0.200000</td>\n",
       "      <td>0.127660</td>\n",
       "      <td>0.436355</td>\n",
       "      <td>2021-11-15 00:00:00+00:00</td>\n",
       "    </tr>\n",
       "    <tr>\n",
       "      <th>6</th>\n",
       "      <td>CMMNTY_0000000002244</td>\n",
       "      <td>16</td>\n",
       "      <td>5</td>\n",
       "      <td>2</td>\n",
       "      <td>9</td>\n",
       "      <td>0.108696</td>\n",
       "      <td>0.080000</td>\n",
       "      <td>0.148936</td>\n",
       "      <td>0.337632</td>\n",
       "      <td>2021-11-15 00:00:00+00:00</td>\n",
       "    </tr>\n",
       "    <tr>\n",
       "      <th>7</th>\n",
       "      <td>CMMNTY_0000000002243</td>\n",
       "      <td>13</td>\n",
       "      <td>0</td>\n",
       "      <td>2</td>\n",
       "      <td>11</td>\n",
       "      <td>0.000000</td>\n",
       "      <td>0.080000</td>\n",
       "      <td>0.191489</td>\n",
       "      <td>0.271489</td>\n",
       "      <td>2021-11-15 00:00:00+00:00</td>\n",
       "    </tr>\n",
       "    <tr>\n",
       "      <th>8</th>\n",
       "      <td>CMMNTY_0000000005001</td>\n",
       "      <td>11</td>\n",
       "      <td>9</td>\n",
       "      <td>0</td>\n",
       "      <td>2</td>\n",
       "      <td>0.195652</td>\n",
       "      <td>0.000000</td>\n",
       "      <td>0.000000</td>\n",
       "      <td>0.195652</td>\n",
       "      <td>2021-11-15 00:00:00+00:00</td>\n",
       "    </tr>\n",
       "    <tr>\n",
       "      <th>9</th>\n",
       "      <td>CMMNTY_0000000006027</td>\n",
       "      <td>10</td>\n",
       "      <td>0</td>\n",
       "      <td>0</td>\n",
       "      <td>10</td>\n",
       "      <td>0.000000</td>\n",
       "      <td>0.000000</td>\n",
       "      <td>0.170213</td>\n",
       "      <td>0.170213</td>\n",
       "      <td>2021-11-15 00:00:00+00:00</td>\n",
       "    </tr>\n",
       "    <tr>\n",
       "      <th>0</th>\n",
       "      <td>CMMNTY_0000000005402</td>\n",
       "      <td>64</td>\n",
       "      <td>35</td>\n",
       "      <td>7</td>\n",
       "      <td>22</td>\n",
       "      <td>1.000000</td>\n",
       "      <td>0.225806</td>\n",
       "      <td>0.487179</td>\n",
       "      <td>1.712986</td>\n",
       "      <td>2021-11-22 00:00:00+00:00</td>\n",
       "    </tr>\n",
       "    <tr>\n",
       "      <th>1</th>\n",
       "      <td>CMMNTY_0000000005094</td>\n",
       "      <td>58</td>\n",
       "      <td>23</td>\n",
       "      <td>5</td>\n",
       "      <td>30</td>\n",
       "      <td>0.657143</td>\n",
       "      <td>0.161290</td>\n",
       "      <td>0.692308</td>\n",
       "      <td>1.510741</td>\n",
       "      <td>2021-11-22 00:00:00+00:00</td>\n",
       "    </tr>\n",
       "    <tr>\n",
       "      <th>2</th>\n",
       "      <td>CMMNTY_0000000006653</td>\n",
       "      <td>55</td>\n",
       "      <td>4</td>\n",
       "      <td>9</td>\n",
       "      <td>42</td>\n",
       "      <td>0.114286</td>\n",
       "      <td>0.290323</td>\n",
       "      <td>1.000000</td>\n",
       "      <td>1.404608</td>\n",
       "      <td>2021-11-22 00:00:00+00:00</td>\n",
       "    </tr>\n",
       "    <tr>\n",
       "      <th>3</th>\n",
       "      <td>CMMNTY_0000000006766</td>\n",
       "      <td>41</td>\n",
       "      <td>4</td>\n",
       "      <td>31</td>\n",
       "      <td>6</td>\n",
       "      <td>0.114286</td>\n",
       "      <td>1.000000</td>\n",
       "      <td>0.076923</td>\n",
       "      <td>1.191209</td>\n",
       "      <td>2021-11-22 00:00:00+00:00</td>\n",
       "    </tr>\n",
       "    <tr>\n",
       "      <th>4</th>\n",
       "      <td>CMMNTY_0000000006669</td>\n",
       "      <td>36</td>\n",
       "      <td>21</td>\n",
       "      <td>7</td>\n",
       "      <td>8</td>\n",
       "      <td>0.600000</td>\n",
       "      <td>0.225806</td>\n",
       "      <td>0.128205</td>\n",
       "      <td>0.954012</td>\n",
       "      <td>2021-11-22 00:00:00+00:00</td>\n",
       "    </tr>\n",
       "    <tr>\n",
       "      <th>5</th>\n",
       "      <td>CMMNTY_0000000005008</td>\n",
       "      <td>20</td>\n",
       "      <td>14</td>\n",
       "      <td>1</td>\n",
       "      <td>5</td>\n",
       "      <td>0.400000</td>\n",
       "      <td>0.032258</td>\n",
       "      <td>0.051282</td>\n",
       "      <td>0.483540</td>\n",
       "      <td>2021-11-22 00:00:00+00:00</td>\n",
       "    </tr>\n",
       "    <tr>\n",
       "      <th>6</th>\n",
       "      <td>CMMNTY_0000000005971</td>\n",
       "      <td>11</td>\n",
       "      <td>5</td>\n",
       "      <td>1</td>\n",
       "      <td>5</td>\n",
       "      <td>0.142857</td>\n",
       "      <td>0.032258</td>\n",
       "      <td>0.051282</td>\n",
       "      <td>0.226397</td>\n",
       "      <td>2021-11-22 00:00:00+00:00</td>\n",
       "    </tr>\n",
       "    <tr>\n",
       "      <th>7</th>\n",
       "      <td>CMMNTY_0000000005401</td>\n",
       "      <td>10</td>\n",
       "      <td>1</td>\n",
       "      <td>0</td>\n",
       "      <td>9</td>\n",
       "      <td>0.028571</td>\n",
       "      <td>0.000000</td>\n",
       "      <td>0.153846</td>\n",
       "      <td>0.182418</td>\n",
       "      <td>2021-11-22 00:00:00+00:00</td>\n",
       "    </tr>\n",
       "    <tr>\n",
       "      <th>8</th>\n",
       "      <td>CMMNTY_0000000005888</td>\n",
       "      <td>9</td>\n",
       "      <td>6</td>\n",
       "      <td>0</td>\n",
       "      <td>3</td>\n",
       "      <td>0.171429</td>\n",
       "      <td>0.000000</td>\n",
       "      <td>0.000000</td>\n",
       "      <td>0.171429</td>\n",
       "      <td>2021-11-22 00:00:00+00:00</td>\n",
       "    </tr>\n",
       "    <tr>\n",
       "      <th>9</th>\n",
       "      <td>CMMNTY_0000000005674</td>\n",
       "      <td>8</td>\n",
       "      <td>0</td>\n",
       "      <td>0</td>\n",
       "      <td>8</td>\n",
       "      <td>0.000000</td>\n",
       "      <td>0.000000</td>\n",
       "      <td>0.128205</td>\n",
       "      <td>0.128205</td>\n",
       "      <td>2021-11-22 00:00:00+00:00</td>\n",
       "    </tr>\n",
       "    <tr>\n",
       "      <th>0</th>\n",
       "      <td>CMMNTY_0000000006653</td>\n",
       "      <td>40</td>\n",
       "      <td>1</td>\n",
       "      <td>5</td>\n",
       "      <td>34</td>\n",
       "      <td>0.111111</td>\n",
       "      <td>1.000000</td>\n",
       "      <td>1.000000</td>\n",
       "      <td>2.111111</td>\n",
       "      <td>2021-11-29 00:00:00+00:00</td>\n",
       "    </tr>\n",
       "    <tr>\n",
       "      <th>1</th>\n",
       "      <td>CMMNTY_0000000005008</td>\n",
       "      <td>12</td>\n",
       "      <td>9</td>\n",
       "      <td>2</td>\n",
       "      <td>1</td>\n",
       "      <td>1.000000</td>\n",
       "      <td>0.400000</td>\n",
       "      <td>0.029412</td>\n",
       "      <td>1.429412</td>\n",
       "      <td>2021-11-29 00:00:00+00:00</td>\n",
       "    </tr>\n",
       "    <tr>\n",
       "      <th>2</th>\n",
       "      <td>CMMNTY_0000000005402</td>\n",
       "      <td>9</td>\n",
       "      <td>3</td>\n",
       "      <td>3</td>\n",
       "      <td>3</td>\n",
       "      <td>0.333333</td>\n",
       "      <td>0.600000</td>\n",
       "      <td>0.088235</td>\n",
       "      <td>1.021569</td>\n",
       "      <td>2021-11-29 00:00:00+00:00</td>\n",
       "    </tr>\n",
       "    <tr>\n",
       "      <th>3</th>\n",
       "      <td>CMMNTY_0000000005660</td>\n",
       "      <td>6</td>\n",
       "      <td>0</td>\n",
       "      <td>1</td>\n",
       "      <td>5</td>\n",
       "      <td>0.000000</td>\n",
       "      <td>0.200000</td>\n",
       "      <td>0.147059</td>\n",
       "      <td>0.347059</td>\n",
       "      <td>2021-11-29 00:00:00+00:00</td>\n",
       "    </tr>\n",
       "    <tr>\n",
       "      <th>4</th>\n",
       "      <td>CMMNTY_0000000005352</td>\n",
       "      <td>4</td>\n",
       "      <td>2</td>\n",
       "      <td>0</td>\n",
       "      <td>2</td>\n",
       "      <td>0.222222</td>\n",
       "      <td>0.000000</td>\n",
       "      <td>0.058824</td>\n",
       "      <td>0.281046</td>\n",
       "      <td>2021-11-29 00:00:00+00:00</td>\n",
       "    </tr>\n",
       "    <tr>\n",
       "      <th>5</th>\n",
       "      <td>CMMNTY_0000000006835</td>\n",
       "      <td>4</td>\n",
       "      <td>2</td>\n",
       "      <td>0</td>\n",
       "      <td>2</td>\n",
       "      <td>0.222222</td>\n",
       "      <td>0.000000</td>\n",
       "      <td>0.058824</td>\n",
       "      <td>0.281046</td>\n",
       "      <td>2021-11-29 00:00:00+00:00</td>\n",
       "    </tr>\n",
       "    <tr>\n",
       "      <th>6</th>\n",
       "      <td>CMMNTY_0000000000869</td>\n",
       "      <td>2</td>\n",
       "      <td>2</td>\n",
       "      <td>0</td>\n",
       "      <td>0</td>\n",
       "      <td>0.222222</td>\n",
       "      <td>0.000000</td>\n",
       "      <td>0.000000</td>\n",
       "      <td>0.222222</td>\n",
       "      <td>2021-11-29 00:00:00+00:00</td>\n",
       "    </tr>\n",
       "    <tr>\n",
       "      <th>7</th>\n",
       "      <td>CMMNTY_0000000004943</td>\n",
       "      <td>2</td>\n",
       "      <td>1</td>\n",
       "      <td>0</td>\n",
       "      <td>1</td>\n",
       "      <td>0.111111</td>\n",
       "      <td>0.000000</td>\n",
       "      <td>0.029412</td>\n",
       "      <td>0.140523</td>\n",
       "      <td>2021-11-29 00:00:00+00:00</td>\n",
       "    </tr>\n",
       "    <tr>\n",
       "      <th>8</th>\n",
       "      <td>CMMNTY_0000000005401</td>\n",
       "      <td>2</td>\n",
       "      <td>0</td>\n",
       "      <td>0</td>\n",
       "      <td>2</td>\n",
       "      <td>0.000000</td>\n",
       "      <td>0.000000</td>\n",
       "      <td>0.058824</td>\n",
       "      <td>0.058824</td>\n",
       "      <td>2021-11-29 00:00:00+00:00</td>\n",
       "    </tr>\n",
       "    <tr>\n",
       "      <th>9</th>\n",
       "      <td>CMMNTY_0000000005166</td>\n",
       "      <td>1</td>\n",
       "      <td>1</td>\n",
       "      <td>0</td>\n",
       "      <td>0</td>\n",
       "      <td>0.111111</td>\n",
       "      <td>0.000000</td>\n",
       "      <td>0.000000</td>\n",
       "      <td>0.111111</td>\n",
       "      <td>2021-11-29 00:00:00+00:00</td>\n",
       "    </tr>\n",
       "  </tbody>\n",
       "</table>\n",
       "</div>"
      ],
      "text/plain": [
       "                    key  doc_count  comment  reply  good  minmax_comment  \\\n",
       "0  CMMNTY_0000000005402        115       46     25    44        1.000000   \n",
       "1  CMMNTY_0000000006040        100       34     17    49        0.739130   \n",
       "2  CMMNTY_0000000005401         34       10      4    20        0.217391   \n",
       "3  CMMNTY_0000000006669         32       23      1     8        0.500000   \n",
       "4  CMMNTY_0000000004943         19        6      5     8        0.130435   \n",
       "5  CMMNTY_0000000004498         18        5      5     8        0.108696   \n",
       "6  CMMNTY_0000000002244         16        5      2     9        0.108696   \n",
       "7  CMMNTY_0000000002243         13        0      2    11        0.000000   \n",
       "8  CMMNTY_0000000005001         11        9      0     2        0.195652   \n",
       "9  CMMNTY_0000000006027         10        0      0    10        0.000000   \n",
       "0  CMMNTY_0000000005402         64       35      7    22        1.000000   \n",
       "1  CMMNTY_0000000005094         58       23      5    30        0.657143   \n",
       "2  CMMNTY_0000000006653         55        4      9    42        0.114286   \n",
       "3  CMMNTY_0000000006766         41        4     31     6        0.114286   \n",
       "4  CMMNTY_0000000006669         36       21      7     8        0.600000   \n",
       "5  CMMNTY_0000000005008         20       14      1     5        0.400000   \n",
       "6  CMMNTY_0000000005971         11        5      1     5        0.142857   \n",
       "7  CMMNTY_0000000005401         10        1      0     9        0.028571   \n",
       "8  CMMNTY_0000000005888          9        6      0     3        0.171429   \n",
       "9  CMMNTY_0000000005674          8        0      0     8        0.000000   \n",
       "0  CMMNTY_0000000006653         40        1      5    34        0.111111   \n",
       "1  CMMNTY_0000000005008         12        9      2     1        1.000000   \n",
       "2  CMMNTY_0000000005402          9        3      3     3        0.333333   \n",
       "3  CMMNTY_0000000005660          6        0      1     5        0.000000   \n",
       "4  CMMNTY_0000000005352          4        2      0     2        0.222222   \n",
       "5  CMMNTY_0000000006835          4        2      0     2        0.222222   \n",
       "6  CMMNTY_0000000000869          2        2      0     0        0.222222   \n",
       "7  CMMNTY_0000000004943          2        1      0     1        0.111111   \n",
       "8  CMMNTY_0000000005401          2        0      0     2        0.000000   \n",
       "9  CMMNTY_0000000005166          1        1      0     0        0.111111   \n",
       "\n",
       "   minmax_reply  minmax_good  comm_index                      date  \n",
       "0      1.000000     0.893617    2.893617 2021-11-15 00:00:00+00:00  \n",
       "1      0.680000     1.000000    2.419130 2021-11-15 00:00:00+00:00  \n",
       "2      0.160000     0.382979    0.760370 2021-11-15 00:00:00+00:00  \n",
       "3      0.040000     0.127660    0.667660 2021-11-15 00:00:00+00:00  \n",
       "4      0.200000     0.127660    0.458094 2021-11-15 00:00:00+00:00  \n",
       "5      0.200000     0.127660    0.436355 2021-11-15 00:00:00+00:00  \n",
       "6      0.080000     0.148936    0.337632 2021-11-15 00:00:00+00:00  \n",
       "7      0.080000     0.191489    0.271489 2021-11-15 00:00:00+00:00  \n",
       "8      0.000000     0.000000    0.195652 2021-11-15 00:00:00+00:00  \n",
       "9      0.000000     0.170213    0.170213 2021-11-15 00:00:00+00:00  \n",
       "0      0.225806     0.487179    1.712986 2021-11-22 00:00:00+00:00  \n",
       "1      0.161290     0.692308    1.510741 2021-11-22 00:00:00+00:00  \n",
       "2      0.290323     1.000000    1.404608 2021-11-22 00:00:00+00:00  \n",
       "3      1.000000     0.076923    1.191209 2021-11-22 00:00:00+00:00  \n",
       "4      0.225806     0.128205    0.954012 2021-11-22 00:00:00+00:00  \n",
       "5      0.032258     0.051282    0.483540 2021-11-22 00:00:00+00:00  \n",
       "6      0.032258     0.051282    0.226397 2021-11-22 00:00:00+00:00  \n",
       "7      0.000000     0.153846    0.182418 2021-11-22 00:00:00+00:00  \n",
       "8      0.000000     0.000000    0.171429 2021-11-22 00:00:00+00:00  \n",
       "9      0.000000     0.128205    0.128205 2021-11-22 00:00:00+00:00  \n",
       "0      1.000000     1.000000    2.111111 2021-11-29 00:00:00+00:00  \n",
       "1      0.400000     0.029412    1.429412 2021-11-29 00:00:00+00:00  \n",
       "2      0.600000     0.088235    1.021569 2021-11-29 00:00:00+00:00  \n",
       "3      0.200000     0.147059    0.347059 2021-11-29 00:00:00+00:00  \n",
       "4      0.000000     0.058824    0.281046 2021-11-29 00:00:00+00:00  \n",
       "5      0.000000     0.058824    0.281046 2021-11-29 00:00:00+00:00  \n",
       "6      0.000000     0.000000    0.222222 2021-11-29 00:00:00+00:00  \n",
       "7      0.000000     0.029412    0.140523 2021-11-29 00:00:00+00:00  \n",
       "8      0.000000     0.058824    0.058824 2021-11-29 00:00:00+00:00  \n",
       "9      0.000000     0.000000    0.111111 2021-11-29 00:00:00+00:00  "
      ]
     },
     "execution_count": 565,
     "metadata": {},
     "output_type": "execute_result"
    }
   ],
   "source": [
    "result_df"
   ]
  },
  {
   "cell_type": "markdown",
   "id": "c9e566f3",
   "metadata": {},
   "source": [
    "## 과제방 관련 지표"
   ]
  },
  {
   "cell_type": "markdown",
   "id": "66834133",
   "metadata": {},
   "source": [
    "### 과제제출율"
   ]
  },
  {
   "cell_type": "markdown",
   "id": "d1da7e24",
   "metadata": {},
   "source": [
    "#### 현재 학생이 제출한 현황"
   ]
  },
  {
   "cell_type": "code",
   "execution_count": 680,
   "id": "6c6e64f0",
   "metadata": {},
   "outputs": [],
   "source": [
    "_cmmnty_id = 'CMMNTY_0000000000869'\n",
    "_student_id = 'bbqc8282@gne.go.kr'\n",
    "_start_date = \"2021-11-15\" \n",
    "_end_date = \"2021-12-01\""
   ]
  },
  {
   "cell_type": "code",
   "execution_count": 681,
   "id": "63eeda25",
   "metadata": {},
   "outputs": [],
   "source": [
    "s = Search(using=es, index='toktok_op_assignable_submit*')\n",
    "s = s.query(\"bool\", filter=[Q('term', cmmnty_id = {'value':_cmmnty_id}),\n",
    "                            Q('term', last_updusr_id={'value' : _student_id}),\n",
    "                Q('range', last_updusr_pnttm= \\\n",
    "                {'gte' : f\"{_start_date}T00:00:00.000Z\", 'lt' : f\"{_end_date}T00:00:00.000Z\"})])"
   ]
  },
  {
   "cell_type": "code",
   "execution_count": 682,
   "id": "9b0869c1",
   "metadata": {},
   "outputs": [
    {
     "data": {
      "text/plain": [
       "AggsProxy(aggs={'submit_per_student': Terms(field='last_updusr_id'), 'submit_count': ValueCount(field='ntt_no')})"
      ]
     },
     "execution_count": 682,
     "metadata": {},
     "output_type": "execute_result"
    }
   ],
   "source": [
    "s.aggs.metric('submit_per_student', 'terms', field='last_updusr_id')\\\n",
    "    .metric('submit_count', 'value_count', field='ntt_no')"
   ]
  },
  {
   "cell_type": "code",
   "execution_count": 683,
   "id": "cd6f6397",
   "metadata": {
    "scrolled": true
   },
   "outputs": [
    {
     "name": "stdout",
     "output_type": "stream",
     "text": [
      "{'query': {'bool': {'filter': [{'term': {'cmmnty_id': {'value': 'CMMNTY_0000000000869'}}}, {'term': {'last_updusr_id': {'value': 'bbqc8282@gne.go.kr'}}}, {'range': {'last_updusr_pnttm': {'gte': '2021-11-15T00:00:00.000Z', 'lt': '2021-12-01T00:00:00.000Z'}}}]}}, 'aggs': {'submit_per_student': {'terms': {'field': 'last_updusr_id'}}, 'submit_count': {'value_count': {'field': 'ntt_no'}}}}\n"
     ]
    }
   ],
   "source": [
    "print(s.to_dict())"
   ]
  },
  {
   "cell_type": "code",
   "execution_count": 684,
   "id": "4bb38d61",
   "metadata": {},
   "outputs": [],
   "source": [
    "response = s.execute()"
   ]
  },
  {
   "cell_type": "code",
   "execution_count": 685,
   "id": "293610ee",
   "metadata": {
    "scrolled": false
   },
   "outputs": [
    {
     "data": {
      "text/plain": [
       "{'value': 2}"
      ]
     },
     "execution_count": 685,
     "metadata": {},
     "output_type": "execute_result"
    }
   ],
   "source": [
    "response.aggregations.submit_count"
   ]
  },
  {
   "cell_type": "code",
   "execution_count": 686,
   "id": "43c15c7d",
   "metadata": {
    "scrolled": true
   },
   "outputs": [
    {
     "data": {
      "text/plain": [
       "{'cmmnty_nm': '하는반(오봉초 5-2)',\n",
       " 'cmmnty_id': 'CMMNTY_0000000000869',\n",
       " 'frst_register_id': 'bbqc8282@gne.go.kr',\n",
       " 'last_updusr_id': 'bbqc8282@gne.go.kr',\n",
       " 'stage': 'op',\n",
       " 'ntt_cn': '수학 35 영어 5 급식 10 합계 50 메타버스 효우 4학년5명 동현이 ,신우,은서,재경이,시연,대현 100 합계150',\n",
       " 'danwon_nm': None,\n",
       " 'ntt_no': 256506,\n",
       " 'ntcr_nm': '문우진',\n",
       " 'site_id': 'SITE_000000000000001',\n",
       " 'last_updusr_pnttm': '2021-11-29T00:09:08.000Z',\n",
       " '@timestamp': '2021-12-12T08:33:10.674Z',\n",
       " 'ntt_sj': None,\n",
       " 'frst_register_pnttm': '2021-11-29T00:05:31.000Z',\n",
       " 'bbs_id': 'BBSMSTR_000000003957'}"
      ]
     },
     "execution_count": 686,
     "metadata": {},
     "output_type": "execute_result"
    }
   ],
   "source": [
    "response.hits[0].to_dict()"
   ]
  },
  {
   "cell_type": "markdown",
   "id": "3f5028dc",
   "metadata": {},
   "source": [
    "#### 학생의 클래스에 출제된 과제 현황"
   ]
  },
  {
   "cell_type": "code",
   "execution_count": 687,
   "id": "25b8755d",
   "metadata": {},
   "outputs": [],
   "source": [
    "_cmmnty_id = 'CMMNTY_0000000000869'\n",
    "_start_date = \"2021-11-15\" \n",
    "_end_date = \"2021-12-01\""
   ]
  },
  {
   "cell_type": "code",
   "execution_count": 688,
   "id": "69434656",
   "metadata": {},
   "outputs": [],
   "source": [
    "s = Search(using=es, index='toktok_op_assignable_regist*')\n",
    "s = s.query(\"bool\", filter=[Q('term', cmmnty_id = {'value':_cmmnty_id}),\n",
    "                Q('range', assignable_end_date= \\\n",
    "                {'gte' : f\"{_start_date}T00:00:00.000Z\", 'lt' : f\"{_end_date}T00:00:00.000Z\"})])"
   ]
  },
  {
   "cell_type": "code",
   "execution_count": 689,
   "id": "5721dcc9",
   "metadata": {},
   "outputs": [
    {
     "data": {
      "text/plain": [
       "AggsProxy(aggs={'assign_per_class': Terms(field='cmmnty_id'), 'assign_count': ValueCount(field='ntt_no')})"
      ]
     },
     "execution_count": 689,
     "metadata": {},
     "output_type": "execute_result"
    }
   ],
   "source": [
    "s.aggs.metric('assign_per_class', 'terms', field='cmmnty_id')\\\n",
    "    .metric('assign_count', 'value_count', field='ntt_no')"
   ]
  },
  {
   "cell_type": "code",
   "execution_count": 690,
   "id": "fd57b5d6",
   "metadata": {
    "scrolled": true
   },
   "outputs": [
    {
     "name": "stdout",
     "output_type": "stream",
     "text": [
      "{'query': {'bool': {'filter': [{'term': {'cmmnty_id': {'value': 'CMMNTY_0000000000869'}}}, {'range': {'assignable_end_date': {'gte': '2021-11-15T00:00:00.000Z', 'lt': '2021-12-01T00:00:00.000Z'}}}]}}, 'aggs': {'assign_per_class': {'terms': {'field': 'cmmnty_id'}}, 'assign_count': {'value_count': {'field': 'ntt_no'}}}}\n"
     ]
    }
   ],
   "source": [
    "print(s.to_dict())"
   ]
  },
  {
   "cell_type": "code",
   "execution_count": 691,
   "id": "71e24e0f",
   "metadata": {},
   "outputs": [],
   "source": [
    "response = s.execute()"
   ]
  },
  {
   "cell_type": "code",
   "execution_count": 692,
   "id": "fc54c4c3",
   "metadata": {
    "scrolled": false
   },
   "outputs": [
    {
     "data": {
      "text/plain": [
       "{'value': 6}"
      ]
     },
     "execution_count": 692,
     "metadata": {},
     "output_type": "execute_result"
    }
   ],
   "source": [
    "response.aggregations.assign_count"
   ]
  },
  {
   "cell_type": "code",
   "execution_count": 693,
   "id": "a5bd3263",
   "metadata": {
    "scrolled": false
   },
   "outputs": [
    {
     "data": {
      "text/plain": [
       "{'assignable_start_date': '2021-11-23',\n",
       " 'cmmnty_nm': '하는반(오봉초 5-2)',\n",
       " 'stage': 'op',\n",
       " 'ntcr_nm': '윤태영',\n",
       " 'site_id': 'SITE_000000000000001',\n",
       " 'ntt_sj': '11월 3주차 일일임무 정산',\n",
       " 'bbs_id': 'BBSMSTR_000000003957',\n",
       " 'assignable_end_date': '2021-11-25',\n",
       " 'cmmnty_id': 'CMMNTY_0000000000869',\n",
       " 'semstr_code': '2',\n",
       " 'ntt_cn': '11월 3주차 일일임무 정산',\n",
       " 'danwon_nm': '11월 3주차 일일임무 정산',\n",
       " 'ntt_no': 248157,\n",
       " '@timestamp': '2021-12-12T08:33:01.683Z',\n",
       " 'schul_grade_code': 'SCH_02',\n",
       " 'subject_code': 'SBJ_01',\n",
       " 'frst_register_pnttm': '2021-11-23T00:21:51.000Z',\n",
       " 'sbject_nm': '창의적 체험 활동'}"
      ]
     },
     "execution_count": 693,
     "metadata": {},
     "output_type": "execute_result"
    }
   ],
   "source": [
    "response.hits[0].to_dict()"
   ]
  },
  {
   "cell_type": "markdown",
   "id": "fc45422d",
   "metadata": {},
   "source": [
    "### 현재 출제된 과제 리스트"
   ]
  },
  {
   "cell_type": "code",
   "execution_count": 703,
   "id": "cc9272e7",
   "metadata": {},
   "outputs": [],
   "source": [
    "lst_df = []\n",
    "for hit in response.hits:\n",
    "    df = pd.DataFrame.from_dict(hit.to_dict(), orient='index').T\n",
    "    lst_df.append(df)\n",
    "list_df = pd.concat(lst_df)"
   ]
  },
  {
   "cell_type": "code",
   "execution_count": 706,
   "id": "eae33c77",
   "metadata": {},
   "outputs": [
    {
     "data": {
      "text/html": [
       "<div>\n",
       "<style scoped>\n",
       "    .dataframe tbody tr th:only-of-type {\n",
       "        vertical-align: middle;\n",
       "    }\n",
       "\n",
       "    .dataframe tbody tr th {\n",
       "        vertical-align: top;\n",
       "    }\n",
       "\n",
       "    .dataframe thead th {\n",
       "        text-align: right;\n",
       "    }\n",
       "</style>\n",
       "<table border=\"1\" class=\"dataframe\">\n",
       "  <thead>\n",
       "    <tr style=\"text-align: right;\">\n",
       "      <th></th>\n",
       "      <th>assignable_start_date</th>\n",
       "      <th>cmmnty_nm</th>\n",
       "      <th>stage</th>\n",
       "      <th>ntcr_nm</th>\n",
       "      <th>site_id</th>\n",
       "      <th>ntt_sj</th>\n",
       "      <th>bbs_id</th>\n",
       "      <th>assignable_end_date</th>\n",
       "      <th>cmmnty_id</th>\n",
       "      <th>semstr_code</th>\n",
       "      <th>ntt_cn</th>\n",
       "      <th>danwon_nm</th>\n",
       "      <th>ntt_no</th>\n",
       "      <th>@timestamp</th>\n",
       "      <th>schul_grade_code</th>\n",
       "      <th>subject_code</th>\n",
       "      <th>frst_register_pnttm</th>\n",
       "      <th>sbject_nm</th>\n",
       "    </tr>\n",
       "  </thead>\n",
       "  <tbody>\n",
       "    <tr>\n",
       "      <th>0</th>\n",
       "      <td>2021-11-23</td>\n",
       "      <td>하는반(오봉초 5-2)</td>\n",
       "      <td>op</td>\n",
       "      <td>윤태영</td>\n",
       "      <td>SITE_000000000000001</td>\n",
       "      <td>11월 3주차 일일임무 정산</td>\n",
       "      <td>BBSMSTR_000000003957</td>\n",
       "      <td>2021-11-25</td>\n",
       "      <td>CMMNTY_0000000000869</td>\n",
       "      <td>2</td>\n",
       "      <td>11월 3주차 일일임무 정산</td>\n",
       "      <td>11월 3주차 일일임무 정산</td>\n",
       "      <td>248157</td>\n",
       "      <td>2021-12-12T08:33:01.683Z</td>\n",
       "      <td>SCH_02</td>\n",
       "      <td>SBJ_01</td>\n",
       "      <td>2021-11-23T00:21:51.000Z</td>\n",
       "      <td>창의적 체험 활동</td>\n",
       "    </tr>\n",
       "    <tr>\n",
       "      <th>0</th>\n",
       "      <td>2021-11-28</td>\n",
       "      <td>하는반(오봉초 5-2)</td>\n",
       "      <td>op</td>\n",
       "      <td>윤태영</td>\n",
       "      <td>SITE_000000000000001</td>\n",
       "      <td>토지조사사업 실시 안내</td>\n",
       "      <td>BBSMSTR_000000003957</td>\n",
       "      <td>2021-11-29</td>\n",
       "      <td>CMMNTY_0000000000869</td>\n",
       "      <td>2</td>\n",
       "      <td>메타버스 공간 내 증명제도 확립을 위한 등기신청을 요함\\r\\n등기신청 양식은 표준 ...</td>\n",
       "      <td>3. 민족 문화를 지켜 나간 조선</td>\n",
       "      <td>258609</td>\n",
       "      <td>2021-12-12T08:33:01.703Z</td>\n",
       "      <td>SCH_02</td>\n",
       "      <td>SBJ_01</td>\n",
       "      <td>2021-11-29T15:47:46.000Z</td>\n",
       "      <td>사회</td>\n",
       "    </tr>\n",
       "    <tr>\n",
       "      <th>0</th>\n",
       "      <td>2021-11-29</td>\n",
       "      <td>하는반(오봉초 5-2)</td>\n",
       "      <td>op</td>\n",
       "      <td>윤태영</td>\n",
       "      <td>SITE_000000000000001</td>\n",
       "      <td>11월 4주차 일일임무 정산</td>\n",
       "      <td>BBSMSTR_000000003957</td>\n",
       "      <td>2021-11-30</td>\n",
       "      <td>CMMNTY_0000000000869</td>\n",
       "      <td>공통</td>\n",
       "      <td>11월 4주차 일일임무 정산. 모든 정산 내용을 적어주세요.</td>\n",
       "      <td>일일임무 정산</td>\n",
       "      <td>256469</td>\n",
       "      <td>2021-12-12T08:33:01.699Z</td>\n",
       "      <td>SCH_02</td>\n",
       "      <td>SBJ_01</td>\n",
       "      <td>2021-11-28T23:56:38.000Z</td>\n",
       "      <td>창의적 체험 활동</td>\n",
       "    </tr>\n",
       "    <tr>\n",
       "      <th>0</th>\n",
       "      <td>2021-11-29</td>\n",
       "      <td>하는반(오봉초 5-2)</td>\n",
       "      <td>op</td>\n",
       "      <td>윤태영</td>\n",
       "      <td>SITE_000000000000001</td>\n",
       "      <td>11월 4주차 일일임무(기후천사단 부분) 정산</td>\n",
       "      <td>BBSMSTR_000000003957</td>\n",
       "      <td>2021-11-30</td>\n",
       "      <td>CMMNTY_0000000000869</td>\n",
       "      <td>공통</td>\n",
       "      <td>11월 4주차 일일임무(기후천사단 부분) 정산</td>\n",
       "      <td>일일임무 정산</td>\n",
       "      <td>256474</td>\n",
       "      <td>2021-12-12T08:33:01.699Z</td>\n",
       "      <td>SCH_02</td>\n",
       "      <td>SBJ_01</td>\n",
       "      <td>2021-11-28T23:57:23.000Z</td>\n",
       "      <td>창의적 체험 활동</td>\n",
       "    </tr>\n",
       "    <tr>\n",
       "      <th>0</th>\n",
       "      <td>2021-11-07</td>\n",
       "      <td>하는반(오봉초 5-2)</td>\n",
       "      <td>op</td>\n",
       "      <td>윤태영</td>\n",
       "      <td>SITE_000000000000001</td>\n",
       "      <td>100대 실천과제 실천 사례를 알려주세요(이전 활동 포함)</td>\n",
       "      <td>BBSMSTR_000000003957</td>\n",
       "      <td>2021-11-18</td>\n",
       "      <td>CMMNTY_0000000000869</td>\n",
       "      <td>공통</td>\n",
       "      <td>100대 실천과제 실천 사례를 알려주세요(이전 활동 포함) 뱃지 배부 예정입니다.</td>\n",
       "      <td>100대 실천과제</td>\n",
       "      <td>231996</td>\n",
       "      <td>2021-12-12T08:33:01.610Z</td>\n",
       "      <td>SCH_02</td>\n",
       "      <td>SBJ_01</td>\n",
       "      <td>2021-11-12T00:27:19.000Z</td>\n",
       "      <td>창의적 체험 활동</td>\n",
       "    </tr>\n",
       "    <tr>\n",
       "      <th>0</th>\n",
       "      <td>2021-11-23</td>\n",
       "      <td>하는반(오봉초 5-2)</td>\n",
       "      <td>op</td>\n",
       "      <td>윤태영</td>\n",
       "      <td>SITE_000000000000001</td>\n",
       "      <td>11월 3주차 일일임무(기후천사단 부분) 정산</td>\n",
       "      <td>BBSMSTR_000000003957</td>\n",
       "      <td>2021-11-25</td>\n",
       "      <td>CMMNTY_0000000000869</td>\n",
       "      <td>2</td>\n",
       "      <td>11월 3주차 일일임무(기후천사단 부분) 정산</td>\n",
       "      <td>11월 3주차 일일임무(기후천사단 부분) 정산</td>\n",
       "      <td>248202</td>\n",
       "      <td>2021-12-12T08:33:01.684Z</td>\n",
       "      <td>SCH_02</td>\n",
       "      <td>SBJ_01</td>\n",
       "      <td>2021-11-23T00:27:42.000Z</td>\n",
       "      <td>창의적 체험 활동</td>\n",
       "    </tr>\n",
       "  </tbody>\n",
       "</table>\n",
       "</div>"
      ],
      "text/plain": [
       "  assignable_start_date     cmmnty_nm stage ntcr_nm               site_id  \\\n",
       "0            2021-11-23  하는반(오봉초 5-2)    op     윤태영  SITE_000000000000001   \n",
       "0            2021-11-28  하는반(오봉초 5-2)    op     윤태영  SITE_000000000000001   \n",
       "0            2021-11-29  하는반(오봉초 5-2)    op     윤태영  SITE_000000000000001   \n",
       "0            2021-11-29  하는반(오봉초 5-2)    op     윤태영  SITE_000000000000001   \n",
       "0            2021-11-07  하는반(오봉초 5-2)    op     윤태영  SITE_000000000000001   \n",
       "0            2021-11-23  하는반(오봉초 5-2)    op     윤태영  SITE_000000000000001   \n",
       "\n",
       "                             ntt_sj                bbs_id assignable_end_date  \\\n",
       "0                   11월 3주차 일일임무 정산  BBSMSTR_000000003957          2021-11-25   \n",
       "0                      토지조사사업 실시 안내  BBSMSTR_000000003957          2021-11-29   \n",
       "0                   11월 4주차 일일임무 정산  BBSMSTR_000000003957          2021-11-30   \n",
       "0         11월 4주차 일일임무(기후천사단 부분) 정산  BBSMSTR_000000003957          2021-11-30   \n",
       "0  100대 실천과제 실천 사례를 알려주세요(이전 활동 포함)  BBSMSTR_000000003957          2021-11-18   \n",
       "0         11월 3주차 일일임무(기후천사단 부분) 정산  BBSMSTR_000000003957          2021-11-25   \n",
       "\n",
       "              cmmnty_id semstr_code  \\\n",
       "0  CMMNTY_0000000000869           2   \n",
       "0  CMMNTY_0000000000869           2   \n",
       "0  CMMNTY_0000000000869          공통   \n",
       "0  CMMNTY_0000000000869          공통   \n",
       "0  CMMNTY_0000000000869          공통   \n",
       "0  CMMNTY_0000000000869           2   \n",
       "\n",
       "                                              ntt_cn  \\\n",
       "0                                    11월 3주차 일일임무 정산   \n",
       "0  메타버스 공간 내 증명제도 확립을 위한 등기신청을 요함\\r\\n등기신청 양식은 표준 ...   \n",
       "0                  11월 4주차 일일임무 정산. 모든 정산 내용을 적어주세요.   \n",
       "0                          11월 4주차 일일임무(기후천사단 부분) 정산   \n",
       "0      100대 실천과제 실천 사례를 알려주세요(이전 활동 포함) 뱃지 배부 예정입니다.   \n",
       "0                          11월 3주차 일일임무(기후천사단 부분) 정산   \n",
       "\n",
       "                   danwon_nm  ntt_no                @timestamp  \\\n",
       "0            11월 3주차 일일임무 정산  248157  2021-12-12T08:33:01.683Z   \n",
       "0         3. 민족 문화를 지켜 나간 조선  258609  2021-12-12T08:33:01.703Z   \n",
       "0                    일일임무 정산  256469  2021-12-12T08:33:01.699Z   \n",
       "0                    일일임무 정산  256474  2021-12-12T08:33:01.699Z   \n",
       "0                  100대 실천과제  231996  2021-12-12T08:33:01.610Z   \n",
       "0  11월 3주차 일일임무(기후천사단 부분) 정산  248202  2021-12-12T08:33:01.684Z   \n",
       "\n",
       "  schul_grade_code subject_code       frst_register_pnttm  sbject_nm  \n",
       "0           SCH_02       SBJ_01  2021-11-23T00:21:51.000Z  창의적 체험 활동  \n",
       "0           SCH_02       SBJ_01  2021-11-29T15:47:46.000Z         사회  \n",
       "0           SCH_02       SBJ_01  2021-11-28T23:56:38.000Z  창의적 체험 활동  \n",
       "0           SCH_02       SBJ_01  2021-11-28T23:57:23.000Z  창의적 체험 활동  \n",
       "0           SCH_02       SBJ_01  2021-11-12T00:27:19.000Z  창의적 체험 활동  \n",
       "0           SCH_02       SBJ_01  2021-11-23T00:27:42.000Z  창의적 체험 활동  "
      ]
     },
     "execution_count": 706,
     "metadata": {},
     "output_type": "execute_result"
    }
   ],
   "source": [
    "list_df"
   ]
  },
  {
   "cell_type": "markdown",
   "id": "f8986031",
   "metadata": {},
   "source": [
    "## 이야기방 상호작용 인덱스 관련"
   ]
  },
  {
   "cell_type": "markdown",
   "id": "b49e3868",
   "metadata": {},
   "source": [
    "### 상호작용 인덱스 관련 쿼리"
   ]
  },
  {
   "cell_type": "markdown",
   "id": "9d0522eb",
   "metadata": {},
   "source": [
    "#### 클래스별"
   ]
  },
  {
   "cell_type": "code",
   "execution_count": 111,
   "id": "cc618226",
   "metadata": {},
   "outputs": [],
   "source": [
    "## 특정 기간 내 클래스별\n",
    "query = {\n",
    "  \"size\": 0,\n",
    "  \"query\" : {\n",
    "    \"range\" : {\n",
    "      \"post_frst_register_pnttm\" : {\n",
    "        \"gte\" : \"2021-11-15T00:00:00.000Z\",\n",
    "        \"lt\" :\"2021-12-01T00:00:00.000Z\"\n",
    "      }\n",
    "    }\n",
    "  },\n",
    "  \"aggs\": {\n",
    "    \"comm_per_class\": {\n",
    "      \"terms\": {\n",
    "        \"field\": \"cmmnty_id\"\n",
    "      },\n",
    "      \n",
    "      \"aggs\": {\n",
    "        \"comment\": {\n",
    "          \"value_count\": {\n",
    "            \"field\": \"comment_frst_register_pnttm\"\n",
    "          }\n",
    "        },\n",
    "        \"minmax_comments\": {\n",
    "          \"normalize\": {\n",
    "            \"buckets_path\": \"comment\",          \n",
    "            \"method\": \"rescale_0_1\",       \n",
    "            \"format\": \"00.00%\"                \n",
    "          }\n",
    "        },\n",
    "        \"reply\": {\n",
    "          \"value_count\": {\n",
    "            \"field\": \"reply_frst_register_pnttm\"\n",
    "          }\n",
    "        },\n",
    "        \"minmax_replies\": {\n",
    "          \"normalize\": {\n",
    "            \"buckets_path\": \"reply\",          \n",
    "            \"method\": \"rescale_0_1\",       \n",
    "            \"format\": \"00.00%\"                \n",
    "          }\n",
    "        },\n",
    "        \"good\": {\n",
    "          \"value_count\": {\n",
    "            \"field\": \"good_frst_register_pnttm\"\n",
    "          }\n",
    "        },\n",
    "        \"minmax_goods\": {\n",
    "          \"normalize\": {\n",
    "            \"buckets_path\": \"good\",          \n",
    "            \"method\": \"rescale_0_1\",       \n",
    "            \"format\": \"00.00%\"                \n",
    "          }\n",
    "        },\n",
    "        \"comm_index\": {\n",
    "          \"bucket_script\" : {\n",
    "            \"buckets_path\" : {\n",
    "              \"comment\" : \"minmax_comments\",\n",
    "              \"reply\" : \"minmax_replies\",\n",
    "              \"good\" : \"minmax_goods\"\n",
    "            },\n",
    "            \"script\" : {\n",
    "              \"source\" : \"params.comment + params.reply + params.good\"\n",
    "            }\n",
    "          }\n",
    "        }\n",
    "      }\n",
    "    }\n",
    "  }\n",
    "}"
   ]
  },
  {
   "cell_type": "code",
   "execution_count": 402,
   "id": "78b544d9",
   "metadata": {},
   "outputs": [],
   "source": [
    "## 클래스별 & 기간별 쿼리\n",
    "query = {\n",
    "  \"size\": 0,\n",
    "  \"query\" : {\n",
    "    \"range\" : {\n",
    "      \"post_frst_register_pnttm\" : {\n",
    "        \"gte\" : \"2021-11-01T00:00:00.000Z\",\n",
    "        \"lt\" :\"2021-12-01T00:00:00.000Z\"\n",
    "      }\n",
    "    }\n",
    "  },\n",
    "  \"aggs\": {\n",
    "    \"comm_over_date\" : {\n",
    "      \"date_histogram\" : {\n",
    "        \"field\" : \"post_frst_register_pnttm\",\n",
    "        \"calendar_interval\" : \"week\"\n",
    "      },\n",
    "    \"aggs\": {\n",
    "      \"comm_per_class\": {\n",
    "        \"terms\": {\n",
    "         \"field\": \"cmmnty_id\"\n",
    "        },\n",
    "        \n",
    "      \"aggs\": {\n",
    "        \"comment\": {\n",
    "          \"value_count\": {\n",
    "            \"field\": \"comment_frst_register_pnttm\"\n",
    "          }\n",
    "        },\n",
    "        \"minmax_comments\": {\n",
    "          \"normalize\": {\n",
    "            \"buckets_path\": \"comment\",          \n",
    "            \"method\": \"rescale_0_1\",       \n",
    "            \"format\": \"00.00%\"                \n",
    "          }\n",
    "        },\n",
    "        \"reply\": {\n",
    "          \"value_count\": {\n",
    "            \"field\": \"reply_frst_register_pnttm\"\n",
    "          }\n",
    "        },\n",
    "        \"minmax_replies\": {\n",
    "          \"normalize\": {\n",
    "            \"buckets_path\": \"reply\",          \n",
    "            \"method\": \"rescale_0_1\",       \n",
    "            \"format\": \"00.00%\"                \n",
    "          }\n",
    "        },\n",
    "        \"good\": {\n",
    "          \"value_count\": {\n",
    "            \"field\": \"good_frst_register_pnttm\"\n",
    "          }\n",
    "        },\n",
    "        \"minmax_goods\": {\n",
    "          \"normalize\": {\n",
    "            \"buckets_path\": \"good\",          \n",
    "            \"method\": \"rescale_0_1\",       \n",
    "            \"format\": \"00.00%\"                \n",
    "          }\n",
    "        },\n",
    "        \"comm_index\": {\n",
    "          \"bucket_script\" : {\n",
    "            \"buckets_path\" : {\n",
    "              \"comment\" : \"minmax_comments\",\n",
    "              \"reply\" : \"minmax_replies\",\n",
    "              \"good\" : \"minmax_goods\"\n",
    "            },\n",
    "            \"script\" : {\n",
    "              \"source\" : \"params.comment + params.reply + params.good\"\n",
    "            }\n",
    "          }\n",
    "        }\n",
    "      }\n",
    "    }\n",
    "  }\n",
    " }\n",
    "}\n",
    "}\n"
   ]
  },
  {
   "cell_type": "code",
   "execution_count": 403,
   "id": "5fe62243",
   "metadata": {},
   "outputs": [
    {
     "name": "stdout",
     "output_type": "stream",
     "text": [
      "43\n"
     ]
    }
   ],
   "source": [
    "s = Search(using=es, index='toktok_op_talk*')\n",
    "s.update_from_dict(query)\n",
    "res = s.execute()\n",
    "print(res.took)"
   ]
  },
  {
   "cell_type": "code",
   "execution_count": 404,
   "id": "f94fdd4a",
   "metadata": {},
   "outputs": [],
   "source": [
    "result_list = []\n",
    "for result in res.aggregations.comm_over_date.buckets:\n",
    "    sub_result = result.comm_per_class.buckets\n",
    "    for sub_res in sub_result:\n",
    "        result_list.append((result.key_as_string, sub_res.key, sub_res.comm_index.value))"
   ]
  },
  {
   "cell_type": "code",
   "execution_count": 405,
   "id": "0efc9558",
   "metadata": {},
   "outputs": [],
   "source": [
    "data = pd.DataFrame.from_records(result_list,columns=['date','cmmnty_id', 'comm_index'])\n",
    "data['date'] = pd.to_datetime(data['date'])"
   ]
  },
  {
   "cell_type": "code",
   "execution_count": 407,
   "id": "2c6814c2",
   "metadata": {},
   "outputs": [
    {
     "data": {
      "text/html": [
       "<div>\n",
       "<style scoped>\n",
       "    .dataframe tbody tr th:only-of-type {\n",
       "        vertical-align: middle;\n",
       "    }\n",
       "\n",
       "    .dataframe tbody tr th {\n",
       "        vertical-align: top;\n",
       "    }\n",
       "\n",
       "    .dataframe thead th {\n",
       "        text-align: right;\n",
       "    }\n",
       "</style>\n",
       "<table border=\"1\" class=\"dataframe\">\n",
       "  <thead>\n",
       "    <tr style=\"text-align: right;\">\n",
       "      <th></th>\n",
       "      <th>date</th>\n",
       "      <th>cmmnty_id</th>\n",
       "      <th>comm_index</th>\n",
       "    </tr>\n",
       "  </thead>\n",
       "  <tbody>\n",
       "    <tr>\n",
       "      <th>0</th>\n",
       "      <td>2021-11-01 00:00:00+00:00</td>\n",
       "      <td>CMMNTY_0000000005402</td>\n",
       "      <td>3.000000</td>\n",
       "    </tr>\n",
       "    <tr>\n",
       "      <th>1</th>\n",
       "      <td>2021-11-01 00:00:00+00:00</td>\n",
       "      <td>CMMNTY_0000000005676</td>\n",
       "      <td>1.328571</td>\n",
       "    </tr>\n",
       "    <tr>\n",
       "      <th>2</th>\n",
       "      <td>2021-11-01 00:00:00+00:00</td>\n",
       "      <td>CMMNTY_0000000000869</td>\n",
       "      <td>0.728571</td>\n",
       "    </tr>\n",
       "    <tr>\n",
       "      <th>3</th>\n",
       "      <td>2021-11-01 00:00:00+00:00</td>\n",
       "      <td>CMMNTY_0000000005401</td>\n",
       "      <td>0.371429</td>\n",
       "    </tr>\n",
       "    <tr>\n",
       "      <th>4</th>\n",
       "      <td>2021-11-01 00:00:00+00:00</td>\n",
       "      <td>CMMNTY_0000000005001</td>\n",
       "      <td>0.119048</td>\n",
       "    </tr>\n",
       "  </tbody>\n",
       "</table>\n",
       "</div>"
      ],
      "text/plain": [
       "                       date             cmmnty_id  comm_index\n",
       "0 2021-11-01 00:00:00+00:00  CMMNTY_0000000005402    3.000000\n",
       "1 2021-11-01 00:00:00+00:00  CMMNTY_0000000005676    1.328571\n",
       "2 2021-11-01 00:00:00+00:00  CMMNTY_0000000000869    0.728571\n",
       "3 2021-11-01 00:00:00+00:00  CMMNTY_0000000005401    0.371429\n",
       "4 2021-11-01 00:00:00+00:00  CMMNTY_0000000005001    0.119048"
      ]
     },
     "execution_count": 407,
     "metadata": {},
     "output_type": "execute_result"
    }
   ],
   "source": [
    "data.head()"
   ]
  },
  {
   "cell_type": "code",
   "execution_count": 265,
   "id": "b7dcd957",
   "metadata": {
    "scrolled": true
   },
   "outputs": [
    {
     "data": {
      "text/html": [
       "<div>\n",
       "<style scoped>\n",
       "    .dataframe tbody tr th:only-of-type {\n",
       "        vertical-align: middle;\n",
       "    }\n",
       "\n",
       "    .dataframe tbody tr th {\n",
       "        vertical-align: top;\n",
       "    }\n",
       "\n",
       "    .dataframe thead th {\n",
       "        text-align: right;\n",
       "    }\n",
       "</style>\n",
       "<table border=\"1\" class=\"dataframe\">\n",
       "  <thead>\n",
       "    <tr style=\"text-align: right;\">\n",
       "      <th></th>\n",
       "      <th>date</th>\n",
       "      <th>cmmnty_id</th>\n",
       "      <th>comm_index</th>\n",
       "    </tr>\n",
       "  </thead>\n",
       "  <tbody>\n",
       "    <tr>\n",
       "      <th>3</th>\n",
       "      <td>2021-11-01 00:00:00+00:00</td>\n",
       "      <td>CMMNTY_0000000005401</td>\n",
       "      <td>0.371429</td>\n",
       "    </tr>\n",
       "    <tr>\n",
       "      <th>18</th>\n",
       "      <td>2021-11-08 00:00:00+00:00</td>\n",
       "      <td>CMMNTY_0000000005401</td>\n",
       "      <td>0.275568</td>\n",
       "    </tr>\n",
       "    <tr>\n",
       "      <th>22</th>\n",
       "      <td>2021-11-15 00:00:00+00:00</td>\n",
       "      <td>CMMNTY_0000000005401</td>\n",
       "      <td>0.760370</td>\n",
       "    </tr>\n",
       "    <tr>\n",
       "      <th>37</th>\n",
       "      <td>2021-11-22 00:00:00+00:00</td>\n",
       "      <td>CMMNTY_0000000005401</td>\n",
       "      <td>0.182418</td>\n",
       "    </tr>\n",
       "    <tr>\n",
       "      <th>48</th>\n",
       "      <td>2021-11-29 00:00:00+00:00</td>\n",
       "      <td>CMMNTY_0000000005401</td>\n",
       "      <td>0.058824</td>\n",
       "    </tr>\n",
       "  </tbody>\n",
       "</table>\n",
       "</div>"
      ],
      "text/plain": [
       "                        date             cmmnty_id  comm_index\n",
       "3  2021-11-01 00:00:00+00:00  CMMNTY_0000000005401    0.371429\n",
       "18 2021-11-08 00:00:00+00:00  CMMNTY_0000000005401    0.275568\n",
       "22 2021-11-15 00:00:00+00:00  CMMNTY_0000000005401    0.760370\n",
       "37 2021-11-22 00:00:00+00:00  CMMNTY_0000000005401    0.182418\n",
       "48 2021-11-29 00:00:00+00:00  CMMNTY_0000000005401    0.058824"
      ]
     },
     "execution_count": 265,
     "metadata": {},
     "output_type": "execute_result"
    }
   ],
   "source": [
    "#cmmnty_id = data['cmmnty_id'].sample(1).values[0]\n",
    "cmmnty_id = \"CMMNTY_0000000005401\"\n",
    "smpl_data = data[data['cmmnty_id'] == cmmnty_id]\n",
    "min_date = datetime.strftime(smpl_data['date'].min().date(), \"%Y-%m-%d\")\n",
    "max_date = datetime.strftime(smpl_data['date'].max().date(), \"%Y-%m-%d\")\n",
    "smpl_data"
   ]
  },
  {
   "cell_type": "code",
   "execution_count": 266,
   "id": "9611ca48",
   "metadata": {
    "scrolled": true
   },
   "outputs": [
    {
     "data": {
      "text/plain": [
       "[<matplotlib.lines.Line2D at 0x7f81e6fda3c8>]"
      ]
     },
     "execution_count": 266,
     "metadata": {},
     "output_type": "execute_result"
    },
    {
     "data": {
      "image/png": "[encoded data removed]",
      "text/plain": [
       "<Figure size 432x288 with 1 Axes>"
      ]
     },
     "metadata": {
      "needs_background": "light"
     },
     "output_type": "display_data"
    }
   ],
   "source": [
    "plt.title(f\"{cmmnty_id} 클래스의 {min_date} ~ {max_date} 커뮤니티 지수 추이\")\n",
    "plt.plot(smpl_data['date'], smpl_data['comm_index'])"
   ]
  },
  {
   "cell_type": "markdown",
   "id": "24dd5a45",
   "metadata": {},
   "source": [
    "#### 학생별"
   ]
  },
  {
   "cell_type": "code",
   "execution_count": 384,
   "id": "d2462ebc",
   "metadata": {},
   "outputs": [],
   "source": [
    "## 특정 클래스 내 학생별 & 기간별 쿼리\n",
    "query = {\n",
    "  \"size\": 0,\n",
    "  \"query\" : {\n",
    "    \"bool\" : {\n",
    "      \"filter\":[\n",
    "    {\"range\" : {\n",
    "      \"post_frst_register_pnttm\" : {\n",
    "        \"gte\" : \"2021-11-15T00:00:00.000Z\",\n",
    "        \"lt\" :\"2021-12-01T00:00:00.000Z\"\n",
    "      }\n",
    "    }},\n",
    "    {\"term\" : {\n",
    "      \"cmmnty_id\" : {\n",
    "        \"value\" : \"CMMNTY_0000000005401\"\n",
    "      }\n",
    "     }}\n",
    "    ]\n",
    "   }\n",
    "  },\n",
    "  \"aggs\": {\n",
    "    \"comm_over_date\" : {\n",
    "      \"date_histogram\" : {\n",
    "        \"field\" : \"post_frst_register_pnttm\",\n",
    "        \"calendar_interval\" : \"week\"\n",
    "      },\n",
    "    \"aggs\": {\n",
    "      \"comm_per_student\": {\n",
    "        \"terms\": {\n",
    "         \"field\": \"post_frst_register_id.keyword\"\n",
    "        },\n",
    "        \n",
    "      \"aggs\": {\n",
    "        \"comment\": {\n",
    "          \"value_count\": {\n",
    "            \"field\": \"comment_frst_register_pnttm\"\n",
    "          }\n",
    "        },\n",
    "        \"minmax_comments\": {\n",
    "          \"normalize\": {\n",
    "            \"buckets_path\": \"comment\",          \n",
    "            \"method\": \"rescale_0_1\",       \n",
    "            \"format\": \"00.00%\"                \n",
    "          }\n",
    "        },\n",
    "        \"reply\": {\n",
    "          \"value_count\": {\n",
    "            \"field\": \"reply_frst_register_pnttm\"\n",
    "          }\n",
    "        },\n",
    "        \"minmax_replies\": {\n",
    "          \"normalize\": {\n",
    "            \"buckets_path\": \"reply\",          \n",
    "            \"method\": \"rescale_0_1\",       \n",
    "            \"format\": \"00.00%\"                \n",
    "          }\n",
    "        },\n",
    "        \"good\": {\n",
    "          \"value_count\": {\n",
    "            \"field\": \"good_frst_register_pnttm\"\n",
    "          }\n",
    "        },\n",
    "        \"minmax_goods\": {\n",
    "          \"normalize\": {\n",
    "            \"buckets_path\": \"good\",          \n",
    "            \"method\": \"rescale_0_1\",       \n",
    "            \"format\": \"00.00%\"                \n",
    "          }\n",
    "        },\n",
    "        \"comm_index\": {\n",
    "          \"bucket_script\" : {\n",
    "            \"buckets_path\" : {\n",
    "              \"comment\" : \"minmax_comments\",\n",
    "              \"reply\" : \"minmax_replies\",\n",
    "              \"good\" : \"minmax_goods\"\n",
    "            },\n",
    "            \"script\" : {\n",
    "              \"source\" : \"params.comment + params.reply + params.good\"\n",
    "            }\n",
    "          }\n",
    "        }\n",
    "      }\n",
    "    }\n",
    "  }\n",
    " }\n",
    "}\n",
    "}\n",
    "\n",
    "\n",
    "\n"
   ]
  },
  {
   "cell_type": "code",
   "execution_count": 385,
   "id": "dcd33300",
   "metadata": {},
   "outputs": [
    {
     "name": "stdout",
     "output_type": "stream",
     "text": [
      "40\n"
     ]
    }
   ],
   "source": [
    "s = Search(using=es, index='toktok_op_talk*')\n",
    "s.update_from_dict(query)\n",
    "res = s.execute()\n",
    "print(res.took)"
   ]
  },
  {
   "cell_type": "code",
   "execution_count": 329,
   "id": "470ce260",
   "metadata": {},
   "outputs": [],
   "source": [
    "result_list = []\n",
    "for result in res.aggregations.comm_over_date.buckets:\n",
    "    sub_result = result.comm_per_student.buckets\n",
    "    for sub_res in sub_result:\n",
    "        if len(sub_result) == 1:\n",
    "            sub_res.comm_index = {'value' : 0}\n",
    "        result_list.append((result.key_as_string, sub_res.key, sub_res.comm_index.value))"
   ]
  },
  {
   "cell_type": "code",
   "execution_count": 332,
   "id": "8479c3a7",
   "metadata": {},
   "outputs": [
    {
     "data": {
      "text/html": [
       "<div>\n",
       "<style scoped>\n",
       "    .dataframe tbody tr th:only-of-type {\n",
       "        vertical-align: middle;\n",
       "    }\n",
       "\n",
       "    .dataframe tbody tr th {\n",
       "        vertical-align: top;\n",
       "    }\n",
       "\n",
       "    .dataframe thead th {\n",
       "        text-align: right;\n",
       "    }\n",
       "</style>\n",
       "<table border=\"1\" class=\"dataframe\">\n",
       "  <thead>\n",
       "    <tr style=\"text-align: right;\">\n",
       "      <th></th>\n",
       "      <th>date</th>\n",
       "      <th>student_post_id</th>\n",
       "      <th>comm_index</th>\n",
       "    </tr>\n",
       "  </thead>\n",
       "  <tbody>\n",
       "    <tr>\n",
       "      <th>0</th>\n",
       "      <td>2021-11-15 00:00:00+00:00</td>\n",
       "      <td>18-14anmyeong-p@gne.go.kr</td>\n",
       "      <td>2.333333</td>\n",
       "    </tr>\n",
       "    <tr>\n",
       "      <th>1</th>\n",
       "      <td>2021-11-15 00:00:00+00:00</td>\n",
       "      <td>18-2anmyeong-p@gne.go.kr</td>\n",
       "      <td>1.000000</td>\n",
       "    </tr>\n",
       "    <tr>\n",
       "      <th>2</th>\n",
       "      <td>2021-11-15 00:00:00+00:00</td>\n",
       "      <td>18-15anmyeong-p@gne.go.kr</td>\n",
       "      <td>0.333333</td>\n",
       "    </tr>\n",
       "    <tr>\n",
       "      <th>3</th>\n",
       "      <td>2021-11-15 00:00:00+00:00</td>\n",
       "      <td>18-9anmyeong-p@gne.go.kr</td>\n",
       "      <td>0.333333</td>\n",
       "    </tr>\n",
       "    <tr>\n",
       "      <th>4</th>\n",
       "      <td>2021-11-15 00:00:00+00:00</td>\n",
       "      <td>18-4anmyeong-p@gne.go.kr</td>\n",
       "      <td>0.000000</td>\n",
       "    </tr>\n",
       "    <tr>\n",
       "      <th>5</th>\n",
       "      <td>2021-11-22 00:00:00+00:00</td>\n",
       "      <td>18-14anmyeong-p@gne.go.kr</td>\n",
       "      <td>0.000000</td>\n",
       "    </tr>\n",
       "    <tr>\n",
       "      <th>6</th>\n",
       "      <td>2021-11-29 00:00:00+00:00</td>\n",
       "      <td>18-14anmyeong-p@gne.go.kr</td>\n",
       "      <td>0.000000</td>\n",
       "    </tr>\n",
       "  </tbody>\n",
       "</table>\n",
       "</div>"
      ],
      "text/plain": [
       "                       date            student_post_id  comm_index\n",
       "0 2021-11-15 00:00:00+00:00  18-14anmyeong-p@gne.go.kr    2.333333\n",
       "1 2021-11-15 00:00:00+00:00   18-2anmyeong-p@gne.go.kr    1.000000\n",
       "2 2021-11-15 00:00:00+00:00  18-15anmyeong-p@gne.go.kr    0.333333\n",
       "3 2021-11-15 00:00:00+00:00   18-9anmyeong-p@gne.go.kr    0.333333\n",
       "4 2021-11-15 00:00:00+00:00   18-4anmyeong-p@gne.go.kr    0.000000\n",
       "5 2021-11-22 00:00:00+00:00  18-14anmyeong-p@gne.go.kr    0.000000\n",
       "6 2021-11-29 00:00:00+00:00  18-14anmyeong-p@gne.go.kr    0.000000"
      ]
     },
     "execution_count": 332,
     "metadata": {},
     "output_type": "execute_result"
    }
   ],
   "source": [
    "data = pd.DataFrame.from_records(result_list,columns=['date','student_post_id', 'comm_index'])\n",
    "data['date'] = pd.to_datetime(data['date'])\n",
    "data"
   ]
  },
  {
   "cell_type": "code",
   "execution_count": 335,
   "id": "88ed2f55",
   "metadata": {
    "scrolled": true
   },
   "outputs": [
    {
     "data": {
      "text/html": [
       "<div>\n",
       "<style scoped>\n",
       "    .dataframe tbody tr th:only-of-type {\n",
       "        vertical-align: middle;\n",
       "    }\n",
       "\n",
       "    .dataframe tbody tr th {\n",
       "        vertical-align: top;\n",
       "    }\n",
       "\n",
       "    .dataframe thead th {\n",
       "        text-align: right;\n",
       "    }\n",
       "</style>\n",
       "<table border=\"1\" class=\"dataframe\">\n",
       "  <thead>\n",
       "    <tr style=\"text-align: right;\">\n",
       "      <th></th>\n",
       "      <th>date</th>\n",
       "      <th>student_post_id</th>\n",
       "      <th>comm_index</th>\n",
       "    </tr>\n",
       "  </thead>\n",
       "  <tbody>\n",
       "    <tr>\n",
       "      <th>0</th>\n",
       "      <td>2021-11-15 00:00:00+00:00</td>\n",
       "      <td>18-14anmyeong-p@gne.go.kr</td>\n",
       "      <td>2.333333</td>\n",
       "    </tr>\n",
       "    <tr>\n",
       "      <th>5</th>\n",
       "      <td>2021-11-22 00:00:00+00:00</td>\n",
       "      <td>18-14anmyeong-p@gne.go.kr</td>\n",
       "      <td>0.000000</td>\n",
       "    </tr>\n",
       "    <tr>\n",
       "      <th>6</th>\n",
       "      <td>2021-11-29 00:00:00+00:00</td>\n",
       "      <td>18-14anmyeong-p@gne.go.kr</td>\n",
       "      <td>0.000000</td>\n",
       "    </tr>\n",
       "  </tbody>\n",
       "</table>\n",
       "</div>"
      ],
      "text/plain": [
       "                       date            student_post_id  comm_index\n",
       "0 2021-11-15 00:00:00+00:00  18-14anmyeong-p@gne.go.kr    2.333333\n",
       "5 2021-11-22 00:00:00+00:00  18-14anmyeong-p@gne.go.kr    0.000000\n",
       "6 2021-11-29 00:00:00+00:00  18-14anmyeong-p@gne.go.kr    0.000000"
      ]
     },
     "execution_count": 335,
     "metadata": {},
     "output_type": "execute_result"
    }
   ],
   "source": [
    "#student_id = data['student_post_id'].sample(1).values[0]\n",
    "student_id = \"18-14anmyeong-p@gne.go.kr\"\n",
    "smpl_data = data[data['student_post_id'] == student_id]\n",
    "min_date = datetime.strftime(smpl_data['date'].min().date(), \"%Y-%m-%d\")\n",
    "max_date = datetime.strftime(smpl_data['date'].max().date(), \"%Y-%m-%d\")\n",
    "smpl_data"
   ]
  },
  {
   "cell_type": "code",
   "execution_count": 337,
   "id": "172a3f10",
   "metadata": {
    "scrolled": true
   },
   "outputs": [
    {
     "data": {
      "text/plain": [
       "[<matplotlib.lines.Line2D at 0x7f81e7128978>]"
      ]
     },
     "execution_count": 337,
     "metadata": {},
     "output_type": "execute_result"
    },
    {
     "data": {
      "image/png": "[encoded data removed]",
      "text/plain": [
       "<Figure size 432x288 with 1 Axes>"
      ]
     },
     "metadata": {
      "needs_background": "light"
     },
     "output_type": "display_data"
    }
   ],
   "source": [
    "plt.title(f\"{student_id} 학생이 받은 {min_date} ~ {max_date} 커뮤니티 지수 추이\")\n",
    "plt.plot(smpl_data['date'], smpl_data['comm_index'])"
   ]
  },
  {
   "cell_type": "markdown",
   "id": "b3a0983b",
   "metadata": {},
   "source": [
    "## 과제 제출 관련"
   ]
  },
  {
   "cell_type": "markdown",
   "id": "bbb3e78d",
   "metadata": {},
   "source": [
    "### 현재(이번주) 학생에게 출제된 과제 수 대비 제출한 과제 수 \n",
    "최근 일주일 내에 끝나는 과제 중 제출한 과제 수"
   ]
  },
  {
   "cell_type": "code",
   "execution_count": 676,
   "id": "78c94f79",
   "metadata": {},
   "outputs": [],
   "source": [
    "# 현재 학생이 제출한 과제 수 \n",
    "query = {\"size\": 0,\n",
    "  \"query\" : {\n",
    "    \"bool\" : {\n",
    "      \"filter\":[\n",
    "    {\"range\" : {\n",
    "      \"last_updusr_pnttm\" : {\n",
    "        \"gte\" : \"2021-11-15T00:00:00.000Z\",\n",
    "        \"lt\" :\"2021-12-01T00:00:00.000Z\"\n",
    "      }\n",
    "    }},\n",
    "    {\"term\" : {\n",
    "      \"cmmnty_id\" : {\n",
    "        \"value\" : \"CMMNTY_0000000000869\"\n",
    "      }\n",
    "     }},\n",
    "     {\"term\" : {\n",
    "       \"last_updusr_id\" : {\n",
    "         \"value\": \"bbqc8282@gne.go.kr\"\n",
    "       }\n",
    "     }\n",
    "       \n",
    "     }\n",
    "    ]\n",
    "   }\n",
    "  },\n",
    "  \"aggs\" : {\n",
    "    \"submit_per_student\" : {\n",
    "      \"terms\" : {\n",
    "        \"field\" : \"last_updusr_id\"\n",
    "      }\n",
    "    },\n",
    "      \"submit_count\" : {\n",
    "        \"value_count\": {\n",
    "          \"field\": \"ntt_no\"\n",
    "        \n",
    "      }\n",
    "    }\n",
    "  }\n",
    "}"
   ]
  },
  {
   "cell_type": "code",
   "execution_count": 677,
   "id": "c741c3f6",
   "metadata": {},
   "outputs": [
    {
     "name": "stdout",
     "output_type": "stream",
     "text": [
      "5\n"
     ]
    }
   ],
   "source": [
    "s = Search(using=es, index='toktok_op_assignable_submit*')\n",
    "s.update_from_dict(query)\n",
    "res = s.execute()\n",
    "print(res.took)"
   ]
  },
  {
   "cell_type": "code",
   "execution_count": 678,
   "id": "045a3511",
   "metadata": {},
   "outputs": [],
   "source": [
    "result = res.aggregations"
   ]
  },
  {
   "cell_type": "code",
   "execution_count": 679,
   "id": "51c3fa57",
   "metadata": {},
   "outputs": [
    {
     "name": "stdout",
     "output_type": "stream",
     "text": [
      "bbqc8282@gne.go.kr 2\n"
     ]
    }
   ],
   "source": [
    "student_id = result.submit_per_student.buckets[0].key\n",
    "submit_count = result.submit_count.value\n",
    "print(student_id, submit_count)"
   ]
  },
  {
   "cell_type": "code",
   "execution_count": 388,
   "id": "c6c0696e",
   "metadata": {},
   "outputs": [],
   "source": [
    "# 현재 학생에게 출제된 과제 수\n",
    "query = {\"size\": 0,\n",
    "  \"query\" : {\n",
    "    \"bool\" : {\n",
    "      \"filter\":[\n",
    "    {\"range\" : {\n",
    "      \"assignable_end_date\" : {\n",
    "        \"gte\" : \"2021-11-15T00:00:00.000Z\",\n",
    "        \"lt\" :\"2021-12-01T00:00:00.000Z\"\n",
    "      }\n",
    "    }},\n",
    "    {\"term\" : {\n",
    "      \"cmmnty_id.keyword\" : {\n",
    "        \"value\" : \"CMMNTY_0000000000869\"\n",
    "      }\n",
    "     }}\n",
    "    ]\n",
    "   }\n",
    "  },\n",
    "  \"aggs\" : {\n",
    "    \"assign_per_class\" : {\n",
    "      \"terms\" : {\n",
    "        \"field\" : \"cmmnty_id.keyword\"\n",
    "      }\n",
    "    },\n",
    "      \"assign_count\" : {\n",
    "        \"value_count\": {\n",
    "          \"field\": \"ntt_no\"\n",
    "        \n",
    "      }\n",
    "    }\n",
    "  }\n",
    "}"
   ]
  },
  {
   "cell_type": "code",
   "execution_count": 389,
   "id": "b0a0c4ad",
   "metadata": {},
   "outputs": [
    {
     "name": "stdout",
     "output_type": "stream",
     "text": [
      "4\n"
     ]
    }
   ],
   "source": [
    "s = Search(using=es, index='toktok_op_assignable_regist*')\n",
    "s.update_from_dict(query)\n",
    "res = s.execute()\n",
    "print(res.took)"
   ]
  },
  {
   "cell_type": "code",
   "execution_count": 363,
   "id": "e5f651e0",
   "metadata": {},
   "outputs": [
    {
     "name": "stdout",
     "output_type": "stream",
     "text": [
      "CMMNTY_0000000000869 3\n"
     ]
    }
   ],
   "source": [
    "result = res.aggregations\n",
    "class_id = result.assign_per_class.buckets[0].key\n",
    "assign_count = result.assign_count.value\n",
    "print(class_id, assign_count)"
   ]
  },
  {
   "cell_type": "code",
   "execution_count": 437,
   "id": "ec4ced89",
   "metadata": {},
   "outputs": [
    {
     "name": "stdout",
     "output_type": "stream",
     "text": [
      "0.3333333333333333\n"
     ]
    }
   ],
   "source": [
    "print(submit_count/assign_count)"
   ]
  },
  {
   "cell_type": "markdown",
   "id": "0146c045",
   "metadata": {},
   "source": [
    "### 현재 출제된 과제 리스트"
   ]
  },
  {
   "cell_type": "code",
   "execution_count": 380,
   "id": "1160dec1",
   "metadata": {},
   "outputs": [],
   "source": [
    "query = {\n",
    "  \"query\" : {\n",
    "    \"bool\" :{\n",
    "      \"filter\" : [\n",
    "    {\"term\" : {\n",
    "      \"cmmnty_id.keyword\" : {\n",
    "        \"value\" : \"CMMNTY_0000000000869\"\n",
    "      }\n",
    "    }},\n",
    "    {\"range\" : {\n",
    "      \"assignable_end_date\" : {\n",
    "        \"gte\" : \"2021-11-15T00:00:00.000Z\",\n",
    "        \"lt\" :\"2021-12-01T00:00:00.000Z\"\n",
    "      }\n",
    "    }}\n",
    "    ]\n",
    "    }  \n",
    "}\n",
    "}"
   ]
  },
  {
   "cell_type": "code",
   "execution_count": 381,
   "id": "dd8a1e5f",
   "metadata": {},
   "outputs": [
    {
     "name": "stdout",
     "output_type": "stream",
     "text": [
      "4\n"
     ]
    }
   ],
   "source": [
    "s = Search(using=es, index='toktok_op_assignable_regist*')\n",
    "s.update_from_dict(query)\n",
    "res = s.execute()\n",
    "print(res.took)"
   ]
  },
  {
   "cell_type": "code",
   "execution_count": 382,
   "id": "0497e045",
   "metadata": {},
   "outputs": [],
   "source": [
    "result_list = []\n",
    "for hit in res.hits:\n",
    "    result_list.append((hit.cmmnty_id, hit.bbs_id, hit.ntt_no, hit.assignable_start_date, hit.assignable_end_date, hit.ntcr_nm, hit.ntt_sj))"
   ]
  },
  {
   "cell_type": "code",
   "execution_count": 383,
   "id": "ceab8523",
   "metadata": {},
   "outputs": [
    {
     "data": {
      "text/html": [
       "<div>\n",
       "<style scoped>\n",
       "    .dataframe tbody tr th:only-of-type {\n",
       "        vertical-align: middle;\n",
       "    }\n",
       "\n",
       "    .dataframe tbody tr th {\n",
       "        vertical-align: top;\n",
       "    }\n",
       "\n",
       "    .dataframe thead th {\n",
       "        text-align: right;\n",
       "    }\n",
       "</style>\n",
       "<table border=\"1\" class=\"dataframe\">\n",
       "  <thead>\n",
       "    <tr style=\"text-align: right;\">\n",
       "      <th></th>\n",
       "      <th>cmmnty_id</th>\n",
       "      <th>bbs_id</th>\n",
       "      <th>ntt_no</th>\n",
       "      <th>assignable_start_date</th>\n",
       "      <th>assignable_end_date</th>\n",
       "      <th>ntcr_nm</th>\n",
       "      <th>ntt_sj</th>\n",
       "    </tr>\n",
       "  </thead>\n",
       "  <tbody>\n",
       "    <tr>\n",
       "      <th>0</th>\n",
       "      <td>CMMNTY_0000000000869</td>\n",
       "      <td>BBSMSTR_000000003957</td>\n",
       "      <td>256474</td>\n",
       "      <td>2021-11-29</td>\n",
       "      <td>2021-11-30</td>\n",
       "      <td>윤태영</td>\n",
       "      <td>11월 4주차 일일임무(기후천사단 부분) 정산</td>\n",
       "    </tr>\n",
       "    <tr>\n",
       "      <th>1</th>\n",
       "      <td>CMMNTY_0000000000869</td>\n",
       "      <td>BBSMSTR_000000003957</td>\n",
       "      <td>256469</td>\n",
       "      <td>2021-11-29</td>\n",
       "      <td>2021-11-30</td>\n",
       "      <td>윤태영</td>\n",
       "      <td>11월 4주차 일일임무 정산</td>\n",
       "    </tr>\n",
       "    <tr>\n",
       "      <th>2</th>\n",
       "      <td>CMMNTY_0000000000869</td>\n",
       "      <td>BBSMSTR_000000003957</td>\n",
       "      <td>258609</td>\n",
       "      <td>2021-11-28</td>\n",
       "      <td>2021-11-29</td>\n",
       "      <td>윤태영</td>\n",
       "      <td>토지조사사업 실시 안내</td>\n",
       "    </tr>\n",
       "  </tbody>\n",
       "</table>\n",
       "</div>"
      ],
      "text/plain": [
       "              cmmnty_id                bbs_id  ntt_no assignable_start_date  \\\n",
       "0  CMMNTY_0000000000869  BBSMSTR_000000003957  256474            2021-11-29   \n",
       "1  CMMNTY_0000000000869  BBSMSTR_000000003957  256469            2021-11-29   \n",
       "2  CMMNTY_0000000000869  BBSMSTR_000000003957  258609            2021-11-28   \n",
       "\n",
       "  assignable_end_date ntcr_nm                     ntt_sj  \n",
       "0          2021-11-30     윤태영  11월 4주차 일일임무(기후천사단 부분) 정산  \n",
       "1          2021-11-30     윤태영            11월 4주차 일일임무 정산  \n",
       "2          2021-11-29     윤태영               토지조사사업 실시 안내  "
      ]
     },
     "execution_count": 383,
     "metadata": {},
     "output_type": "execute_result"
    }
   ],
   "source": [
    "data = pd.DataFrame.from_records(result_list,columns=['cmmnty_id', 'bbs_id', 'ntt_no', 'assignable_start_date', 'assignable_end_date', 'ntcr_nm', 'ntt_sj'])\n",
    "data['assignable_start_date'] = pd.to_datetime(data['assignable_start_date'])\n",
    "data['assignable_end_date'] = pd.to_datetime(data['assignable_end_date'])\n",
    "data"
   ]
  },
  {
   "cell_type": "code",
   "execution_count": null,
   "id": "e626c25b",
   "metadata": {},
   "outputs": [],
   "source": []
  }
 ],
 "metadata": {
  "kernelspec": {
   "display_name": "Python 3 (ipykernel)",
   "language": "python",
   "name": "python3"
  },
  "language_info": {
   "codemirror_mode": {
    "name": "ipython",
    "version": 3
   },
   "file_extension": ".py",
   "mimetype": "text/x-python",
   "name": "python",
   "nbconvert_exporter": "python",
   "pygments_lexer": "ipython3",
   "version": "3.7.0"
  }
 },
 "nbformat": 4,
 "nbformat_minor": 5
}
